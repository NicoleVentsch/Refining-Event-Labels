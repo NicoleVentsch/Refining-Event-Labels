{
 "cells": [
  {
   "cell_type": "code",
   "execution_count": 3,
   "metadata": {},
   "outputs": [],
   "source": [
    "# import an example log (from introduction to data science)\n",
    "import pm4py\n",
    "from pm4py.objects.log.importer.xes import factory as xes_importer\n",
    "#from ciso8601 import parse_datetime as parse_datetime\n",
    "\n",
    "log = xes_importer.import_log('roadtraffic50traces.xes')"
   ]
  },
  {
   "cell_type": "markdown",
   "metadata": {},
   "source": [
    "lookUpTable() Function:"
   ]
  },
  {
   "cell_type": "code",
   "execution_count": 31,
   "metadata": {},
   "outputs": [
    {
     "name": "stdout",
     "output_type": "stream",
     "text": [
      "{'Create Fine,Send Fine': [0, 12, 27, 31, 36, 48, 49], 'Create Fine,Send Fine,Insert Fine Notification,Add penalty,Send for Credit Collection': [1, 4, 7, 9, 10, 11, 13, 15, 16, 17, 19, 21, 22, 26, 30, 32, 35, 42, 43, 44, 47, 50], 'Create Fine,Send Fine,Insert Fine Notification,Add penalty,Payment': [2, 14, 25, 29, 41, 45, 46], 'Create Fine,Send Fine,Insert Fine Notification,Insert Date Appeal to Prefecture,Add penalty,Send Appeal to Prefecture': [3], 'Create Fine,Payment': [5, 6, 18, 20, 23, 24, 33, 34, 37, 38, 39, 40], 'Create Fine,Send Fine,Insert Fine Notification,Add penalty,Payment,Payment': [8, 28]}\n"
     ]
    }
   ],
   "source": [
    "# get the variants with the corresponding IDs (-> lookup-map)\n",
    "# input: log (imported with xes_importer)\n",
    "# stored as a dicctionary with variants as key and as value the list of case IDs that share the variant\n",
    "from pm4py.algo.filtering.tracelog.variants import variants_filter\n",
    "\n",
    "def lookUpTable(log):\n",
    "    variant=variants_filter.get_variants_from_log_trace_idx(log, parameters=None)\n",
    "    return variant\n",
    "\n",
    "\n",
    "# test the function\n",
    "table=lookUpTable(log)\n",
    "print(table)"
   ]
  },
  {
   "cell_type": "markdown",
   "metadata": {},
   "source": [
    "getVariants() Function:"
   ]
  },
  {
   "cell_type": "code",
   "execution_count": 32,
   "metadata": {},
   "outputs": [
    {
     "name": "stdout",
     "output_type": "stream",
     "text": [
      "[['Create Fine', 'Send Fine'], ['Create Fine', 'Send Fine', 'Insert Fine Notification', 'Add penalty', 'Send for Credit Collection'], ['Create Fine', 'Send Fine', 'Insert Fine Notification', 'Add penalty', 'Payment'], ['Create Fine', 'Send Fine', 'Insert Fine Notification', 'Insert Date Appeal to Prefecture', 'Add penalty', 'Send Appeal to Prefecture'], ['Create Fine', 'Payment'], ['Create Fine', 'Send Fine', 'Insert Fine Notification', 'Add penalty', 'Payment', 'Payment']]\n"
     ]
    }
   ],
   "source": [
    "# get the variants from the dicctionary created with lookUpTable() and omit the IDs\n",
    "# input: dicctionary with variants as keys and case IDs as values \n",
    "# stored as a list containing the variants as lists (-> list of lists)\n",
    "def getVariants(dicctionary):\n",
    "    variants=list(dicctionary.keys())\n",
    "    return [variant.split(',') for variant in variants]\n",
    "\n",
    "\n",
    "# test the function\n",
    "variants=getVariants(table)\n",
    "print(variants)\n"
   ]
  },
  {
   "cell_type": "code",
   "execution_count": null,
   "metadata": {},
   "outputs": [],
   "source": []
  }
 ],
 "metadata": {
  "kernelspec": {
   "display_name": "Python 3",
   "language": "python",
   "name": "python3"
  },
  "language_info": {
   "codemirror_mode": {
    "name": "ipython",
    "version": 3
   },
   "file_extension": ".py",
   "mimetype": "text/x-python",
   "name": "python",
   "nbconvert_exporter": "python",
   "pygments_lexer": "ipython3",
   "version": "3.6.7"
  }
 },
 "nbformat": 4,
 "nbformat_minor": 2
}
