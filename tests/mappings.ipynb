{
 "cells": [
  {
   "cell_type": "code",
   "execution_count": 2,
   "metadata": {},
   "outputs": [
    {
     "name": "stdout",
     "output_type": "stream",
     "text": [
      "[(0, 5), (1, 6), (3, 7), (4, 9)]\n",
      "[(0, 5), (1, 6), (3, 8), (4, 9)]\n",
      "[(0, 5), (2, 6), (3, 7), (4, 9)]\n",
      "[(0, 5), (2, 6), (3, 8), (4, 9)]\n"
     ]
    }
   ],
   "source": [
    "import itertools as it\n",
    "\n",
    "#Two variants: [(eventID,\"event\"),...]\n",
    "v1 = [(0,'A'),(1,'B'),(2,'B'),(3,'C'),(4,'D')]\n",
    "v2 = [(5,'A'),(6,'B'),(7,'C'),(8,'C'),(9,'D')]\n",
    "\n",
    "l = []   \n",
    "\n",
    "#Get unique events by creating a set of events for v1 and v2\n",
    "s1 = set([b for (a,b) in v1])\n",
    "s2 = set([b for (a,b) in v2])\n",
    "\n",
    "#Get the number of intersectiong events in s1 (for v1) and s2 (for v2)\n",
    "intersect = len(s1.intersection(s2))\n",
    "\n",
    "#Get all possible matches between v1 and v2 (equal events between v1 and v2)\n",
    "matches = [(a,c) for (a,b) in v1 for (c,d) in v2 if b == d]\n",
    "\n",
    "#Get all possible combinations of matches with lenght \"intersect\"\n",
    "for combination in it.combinations(matches, intersect):\n",
    "    #Get only those combinations such that each each pair of events is unique, i.e.,\n",
    "    # the lenght of the set of expanded event tuples is \"2*intersect\" (since (a,b))\n",
    "    if len(set(it.chain.from_iterable(combination))) == (2*intersect):\n",
    "        l.append(list(combination))\n",
    "\n",
    "#All possible mappings between v1 and v2\n",
    "for i in range(0,len(l)):\n",
    "    print(l[i])"
   ]
  },
  {
   "cell_type": "code",
   "execution_count": null,
   "metadata": {},
   "outputs": [],
   "source": []
  }
 ],
 "metadata": {
  "kernelspec": {
   "display_name": "Python 3",
   "language": "python",
   "name": "python3"
  },
  "language_info": {
   "codemirror_mode": {
    "name": "ipython",
    "version": 3
   },
   "file_extension": ".py",
   "mimetype": "text/x-python",
   "name": "python",
   "nbconvert_exporter": "python",
   "pygments_lexer": "ipython3",
   "version": "3.7.0  "
  }
 },
 "nbformat": 4,
 "nbformat_minor": 2
}
