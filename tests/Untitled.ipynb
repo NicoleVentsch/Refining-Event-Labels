{
 "cells": [
  {
   "cell_type": "code",
   "execution_count": null,
   "metadata": {},
   "outputs": [],
   "source": [
    "\n",
    "#Computing best mappings and MAX(cost)\n",
    "best_mappings = bestMappings(cp, variants, C)\n",
    "max_cost = np.amax(C)\n",
    "C = C/max_cost\n",
    "print(\"mapp\")\n",
    "\n",
    "#Intermediate steps before creating the graph\n",
    "candidates = cp.getCandidateLabels()\n",
    "pos_candidates = positionsOfCandidates(candidates, variants)\n",
    "print(\"inter\")\n",
    "\n",
    "#Graph creation \n",
    "G = graphTool()\n",
    "G.createGraphFromVariants(variants)\n",
    "G.addOptimalMappings(best_mappings, max_cost, pos_candidates)\n",
    "print(\"graph\")\n",
    "\n",
    "#Refinement Steps\n",
    "subgraphs = G.clusterDetection(cp)\n",
    "horizontalRefinement(cp, subgraphs)\n",
    "verticalRefinement(cp, subgraphs, db)\n",
    "print(\"ref\")\n",
    "\n",
    "#PostProcessing Step\n",
    "eventLogRenaming(cp, subgraphs, db, log)"
   ]
  }
 ],
 "metadata": {
  "kernelspec": {
   "display_name": "Python 3",
   "language": "python",
   "name": "python3"
  },
  "language_info": {
   "codemirror_mode": {
    "name": "ipython",
    "version": 3
   },
   "file_extension": ".py",
   "mimetype": "text/x-python",
   "name": "python",
   "nbconvert_exporter": "python",
   "pygments_lexer": "ipython3",
   "version": "3.7.3"
  }
 },
 "nbformat": 4,
 "nbformat_minor": 2
}
