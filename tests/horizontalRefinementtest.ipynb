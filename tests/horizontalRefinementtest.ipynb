{
 "cells": [
  {
   "cell_type": "code",
   "execution_count": 98,
   "metadata": {},
   "outputs": [],
   "source": [
    "import numpy as np\n",
    "import networkx as nx\n",
    "import itertools as it\n",
    "\n",
    "def clusterDetection(G, threshold):\n",
    "    \"\"\"\n",
    "    clusters the variants based on a given threshold; to do so, edges with a weight above the threshold are deleted from the given graph respresenting the optimal mappings\n",
    "\n",
    "    :param threshold: the variant threshold the algorithm should use\n",
    "    :return: list of subgraphs where each subgraph represents a cluster of variants\n",
    "\n",
    "    \"\"\"\n",
    "\n",
    "    edges = list(G.edges(data=True))\n",
    "    \n",
    "    # remove the edges above the threshold (and below 0)\n",
    "    for node1, node2, weight in edges:\n",
    "        if weight['weight'] > threshold or weight['weight'] < 0:\n",
    "            G.remove_edge(node1, node2)\n",
    "\n",
    "    # get the subgraphs of the graph created this way\n",
    "    subgraphNodes= nx.k_edge_subgraphs(G, k=1)\n",
    "    subgraphs=[G.subgraph(nodes) for nodes in subgraphNodes]\n",
    "    return subgraphs\n",
    "\n",
    "\n",
    "\n",
    "def horizontalRefinement(candidateLabels, graphList):\n",
    "    \"\"\"\n",
    "    Performs horizontal relabelling of event labels within a cluster; each event that belongs to the candidate labels will get a unique new label per cluster\n",
    "\n",
    "    :param candidateLabels: s list of lsbels that should be refined\n",
    "    :param graphList: a list of subgraphs where each subgraph represents a cluster of variants\n",
    "    :return: s list of refined subgraphs, where the attribute 'newLabel' is changed for each candidate label, such that the event labels are unique per cluster\n",
    "    \"\"\"\n",
    "\n",
    "    counter=1\n",
    "    for subgraph in graphList:\n",
    "        for label in candidateLabels:\n",
    "            for node, dict in list(subgraph.nodes(data=True)):\n",
    "                if dict['curLabel'] == label:\n",
    "                    dict['newLabel'] += str(counter)\n",
    "        counter += 1\n",
    "\n",
    "    return graphList\n",
    "\n",
    "\n",
    "\n",
    "\n"
   ]
  },
  {
   "cell_type": "code",
   "execution_count": 99,
   "metadata": {},
   "outputs": [
    {
     "name": "stdout",
     "output_type": "stream",
     "text": [
      "[1, 3]\n",
      "[2, 4, 5] \n",
      "\n",
      "[(1, {'curLabel': 'a', 'newLabel': 'a1'}), (3, {'curLabel': 'c', 'newLabel': 'c'})]\n",
      "[(2, {'curLabel': 'b', 'newLabel': 'b2'}), (4, {'curLabel': 'b', 'newLabel': 'b2'}), (5, {'curLabel': 'a', 'newLabel': 'a2'})]\n"
     ]
    }
   ],
   "source": [
    "G = nx.Graph()\n",
    "G.add_nodes_from([(1, {'curLabel':'a', 'newLabel':'a'}),(2,{'curLabel':'b', 'newLabel':'b'}), (3,{'curLabel':'c', 'newLabel':'c'}),(4,{'curLabel':'b', 'newLabel':'b'}), (5,{'curLabel':'a', 'newLabel':'a'})])\n",
    "G.add_edges_from([(1, 3, {'weight': 0}), (4, 5, {'weight': 0}), (2, 4, {'weight': 0.05}), (1,5,{'weight':0.7})])\n",
    "\n",
    "subgraphs=clusterDetection(G,0.5)\n",
    "print(subgraphs[0].nodes())\n",
    "print(subgraphs[1].nodes(), \"\\n\")\n",
    "\n",
    "graphs=horizontalRefinement(['a','b'], subgraphs)\n",
    "print(graphs[0].nodes(data=True))\n",
    "print(graphs[1].nodes(data=True))\n"
   ]
  },
  {
   "cell_type": "code",
   "execution_count": null,
   "metadata": {},
   "outputs": [],
   "source": []
  }
 ],
 "metadata": {
  "kernelspec": {
   "display_name": "Python 3",
   "language": "python",
   "name": "python3"
  },
  "language_info": {
   "codemirror_mode": {
    "name": "ipython",
    "version": 3
   },
   "file_extension": ".py",
   "mimetype": "text/x-python",
   "name": "python",
   "nbconvert_exporter": "python",
   "pygments_lexer": "ipython3",
   "version": "3.6.7"
  }
 },
 "nbformat": 4,
 "nbformat_minor": 2
}
