{
 "cells": [
  {
   "cell_type": "code",
   "execution_count": 20,
   "metadata": {},
   "outputs": [],
   "source": [
    "import numpy as np\n",
    "import networkx as nx\n",
    "import itertools as it\n",
    "\n",
    "def clusterDetection(G, threshold):\n",
    "    \"\"\"\n",
    "    clusters the variants based on a given threshold; to do so, edges with a weight above the threshold are deleted from the given graph respresenting the optimal mappings\n",
    "\n",
    "    :param threshold: the variant threshold the algorithm should use\n",
    "    :return: list of subgraphs where each subgraph represents a cluster of variants\n",
    "\n",
    "    \"\"\"\n",
    "\n",
    "    edges = list(G.edges(data=True))\n",
    "    \n",
    "    # remove the edges above the threshold (and below 0)\n",
    "    for node1, node2, weight in edges:\n",
    "        if weight['weight'] > threshold or weight['weight'] < 0:\n",
    "            G.remove_edge(node1, node2)\n",
    "\n",
    "    # get the subgraphs of the graph created this way\n",
    "    subgraphNodes= nx.k_edge_subgraphs(G, k=1)\n",
    "    subgraphs=[G.subgraph(nodes) for nodes in subgraphNodes]\n",
    "    return subgraphs\n",
    "\n",
    "\n",
    "\n",
    "def horizontalRefinement(candidateLabels, graphList):\n",
    "    \"\"\"\n",
    "    Performs horizontal relabelling of event labels within a cluster; each event that belongs to the candidate labels will get a unique new label per cluster\n",
    "\n",
    "    :param candidateLabels: s list of lsbels that should be refined\n",
    "    :param graphList: a list of subgraphs where each subgraph represents a cluster of variants\n",
    "    :return: s list of refined subgraphs, where the attribute 'newLabel' is changed for each candidate label, such that the event labels are unique per cluster\n",
    "    \"\"\"\n",
    "\n",
    "    counter=1\n",
    "    for subgraph in graphList:\n",
    "        for label in candidateLabels:\n",
    "            for node, dict in list(subgraph.nodes(data=True)):\n",
    "                if dict['curLabel'] == label:\n",
    "                    dict['newLabel'] += str(counter)\n",
    "        counter += 1\n",
    "\n",
    "    return graphList\n",
    "\n",
    "\n",
    "\n",
    "\n"
   ]
  },
  {
   "cell_type": "code",
   "execution_count": 21,
   "metadata": {},
   "outputs": [
    {
     "name": "stdout",
     "output_type": "stream",
     "text": [
      "[1, 3]\n",
      "[2, 4, 5] \n",
      "\n",
      "[(1, {'curLabel': 'a', 'newLabel': 'a1'}), (3, {'curLabel': 'c', 'newLabel': 'c'})]\n",
      "[(2, {'curLabel': 'b', 'newLabel': 'b2'}), (4, {'curLabel': 'b', 'newLabel': 'b2'}), (5, {'curLabel': 'a', 'newLabel': 'a2'})]\n"
     ]
    }
   ],
   "source": [
    "G = nx.Graph()\n",
    "G.add_nodes_from([(1, {'curLabel':'a', 'newLabel':'a'}),(2,{'curLabel':'b', 'newLabel':'b'}), (3,{'curLabel':'c', 'newLabel':'c'}),(4,{'curLabel':'b', 'newLabel':'b'}), (5,{'curLabel':'a', 'newLabel':'a'})])\n",
    "G.add_edges_from([(1, 3, {'weight': 0}), (4, 5, {'weight': 0}), (2, 4, {'weight': 0.05}), (1,5,{'weight':0.7})])\n",
    "\n",
    "subgraphs=clusterDetection(G,0.5)\n",
    "print(subgraphs[0].nodes())\n",
    "print(subgraphs[1].nodes(), \"\\n\")\n",
    "\n",
    "graphs=horizontalRefinement(['a','b'], subgraphs)\n",
    "print(graphs[0].nodes(data=True))\n",
    "print(graphs[1].nodes(data=True))\n"
   ]
  },
  {
   "cell_type": "code",
   "execution_count": 252,
   "metadata": {},
   "outputs": [],
   "source": [
    "def createConnectedComponents(graphList, candidateLabels):\n",
    "\n",
    "    \"\"\"\n",
    "    creates the connected components for each imprecise label candidate\n",
    "\n",
    "    :param graphList: a list of graphs representing each cluster\n",
    "    :param candidateLabels: a list of labels that should be refined\n",
    "    :return: list of event names with their corresponding connected components, i.e., a list of tuples (event name, nodes), where nodes is a list containing the IDs of the nodes in that component\n",
    "\n",
    "    \"\"\"\n",
    "\n",
    "    connectedComponents=[]\n",
    "    for label in candidateLabels:\n",
    "        components=[]\n",
    "        for subgraph in graphList:\n",
    "            #only consider edges between different variants\n",
    "            edges=[]\n",
    "            allEdges=list(subgraph.edges(data=True))\n",
    "            for v,w,weight in allEdges:\n",
    "                if weight['weight']>-1:\n",
    "                    edges.append((v,w))\n",
    "                        \n",
    "            # create the connected components\n",
    "            for node, dict in list(subgraph.nodes(data=True)):\n",
    "                if dict['curLabel'] == label:\n",
    "                    for component in components:\n",
    "                        for nodes in component:\n",
    "                            if (nodes, node) in edges:\n",
    "                                component.append(node)\n",
    "                                break\n",
    "                        else: \n",
    "                            continue\n",
    "                        break\n",
    "\n",
    "                    else:                         \n",
    "                        components.append([node])\n",
    "                    \n",
    "        connectedComponents.append([label, components])\n",
    "\n",
    "    return connectedComponents\n",
    "\n",
    "def getMaxSizes(connectedComponents):\n",
    "    \"\"\"\n",
    "    gives the maximal sizes of the components for each label with respect to the number of events\n",
    "\n",
    "    :param connectedComponents: list of components that consider of lists [label, event IDs]\n",
    "    :return: the maximal size of the components for each label\n",
    "    \"\"\"\n",
    "\n",
    "    sizes=[]\n",
    "    for label,components in connectedComponents:\n",
    "        maxSize = 0\n",
    "        for component in components:\n",
    "            if len(component[0]) > maxSize:\n",
    "                maxSize=len(component[0])\n",
    "        sizes.append([label, maxSize])\n",
    "    return sizes\n",
    "\n"
   ]
  },
  {
   "cell_type": "code",
   "execution_count": 253,
   "metadata": {},
   "outputs": [
    {
     "name": "stdout",
     "output_type": "stream",
     "text": [
      "[['a', [[1], [5]]], ['b', [[3, 4]]]]\n",
      "\n",
      " [['a', 1], ['b', 2]]\n"
     ]
    }
   ],
   "source": [
    "comps=createConnectedComponents(graphs, ['a','b'])\n",
    "print(comps)\n",
    "\n",
    "#sizes=getMaxSizes(comps)\n",
    "print(\"\\n\",sizes)"
   ]
  },
  {
   "cell_type": "code",
   "execution_count": 270,
   "metadata": {},
   "outputs": [],
   "source": [
    "def inSameVariant(component1, component2, variants):\n",
    "    \"\"\"\n",
    "    Auxiliary function to determine if two connected components corresponding to the same label are in the same variant (according to section 5.4 in the paper)\n",
    "    \n",
    "    :param component1: first component given as a list of event IDs\n",
    "    :param component2: second component given as a list of event IDs\n",
    "    :param variants: list of variants given as a list of tuples (eventID, event label), i.e., a list of lists of tuples\n",
    "    :returns: boolean; True if the connected components are in the same variant, False otherwise\n",
    "    \"\"\"\n",
    "    for event1 in component1:\n",
    "        for event2 in component2:\n",
    "            for variant in variants:\n",
    "                contains1=False\n",
    "                contains2=False\n",
    "                for eventID,_ in variant:\n",
    "                    if event1==eventID:\n",
    "                        contains1=True\n",
    "                    if event2==eventID:\n",
    "                        contains2=True\n",
    "                if contains1 and contains2:\n",
    "                    return True\n",
    "        \n",
    "    return False\n",
    "            "
   ]
  },
  {
   "cell_type": "code",
   "execution_count": 271,
   "metadata": {},
   "outputs": [],
   "source": [
    "import itertools as it\n",
    "\n",
    "def ComponentsInSameVariant(connectedComponents, variants):\n",
    "    newConnectedComponents=[]\n",
    "\n",
    "    for component in connectedComponents:\n",
    "        label=component[0]\n",
    "        sameVariant=component[1]\n",
    "        noMatch=[]\n",
    "        for a, b in it.combinations(sameVariant, 2):\n",
    "            if inSameVariant(a, b, variants):\n",
    "                continue\n",
    "            else: \n",
    "                sameVariant.remove(b)\n",
    "                noMatch.append(b)\n",
    "        newConnectedComponents.append([label, sameVariant])\n",
    "        if len(noMatch)>1:\n",
    "            newConnectedComponents.append(ComponentsInSameVariant([[label,noMatch]], variants))\n",
    "        if len(noMatch)==1:\n",
    "            newConnectedComponents.append([label, noMatch])\n",
    "\n",
    "\n",
    "    return newConnectedComponents"
   ]
  },
  {
   "cell_type": "code",
   "execution_count": 272,
   "metadata": {},
   "outputs": [
    {
     "name": "stdout",
     "output_type": "stream",
     "text": [
      "[['a', [[1]]], ['b', [[3, 4]]]]\n",
      "[['a', [[1]]], ['b', [[3, 4]]]]\n"
     ]
    }
   ],
   "source": [
    "print(comps)\n",
    "\n",
    "sameVarcomp=ComponentsInSameVariant(comps, [[[1,'a'],[2,'b'],[3,'c']],[[4,'b'],[5,'a']]])\n",
    "print(sameVarcomp)"
   ]
  },
  {
   "cell_type": "code",
   "execution_count": 273,
   "metadata": {},
   "outputs": [
    {
     "data": {
      "text/plain": [
       "True"
      ]
     },
     "execution_count": 273,
     "metadata": {},
     "output_type": "execute_result"
    }
   ],
   "source": [
    "inSameVariant([1,5],[2,4], [[[1,'a'],[2,'b'],[3,'c']],[[4,'b'],[5,'a']]])"
   ]
  },
  {
   "cell_type": "code",
   "execution_count": 274,
   "metadata": {},
   "outputs": [],
   "source": [
    "def getPosition(event, variants):\n",
    "    \"\"\"\n",
    "    Auxiliary function to determine the position of an event given its event ID    \n",
    "    \n",
    "    :param event: event ID of the event we need the position of\n",
    "    :param variants: list of variants given as a list of tuples (eventID, event label), i.e., a list of lists of tuples\n",
    "    :returns: integer representing the position of the event in its corresponding variant\n",
    "    \"\"\"\n",
    "\n",
    "    for variant in variants:\n",
    "        for eventID,_ in variant:\n",
    "            if event==eventID:\n",
    "                return event-variant[0][0]+1\n",
    "        \n",
    "  "
   ]
  },
  {
   "cell_type": "code",
   "execution_count": 275,
   "metadata": {},
   "outputs": [
    {
     "data": {
      "text/plain": [
       "2"
      ]
     },
     "execution_count": 275,
     "metadata": {},
     "output_type": "execute_result"
    }
   ],
   "source": [
    "getPosition(5, [[[1,'a'],[2,'b'],[3,'c']],[[4,'b'],[5,'a']]])"
   ]
  },
  {
   "cell_type": "code",
   "execution_count": 276,
   "metadata": {},
   "outputs": [],
   "source": [
    "import numpy as np\n",
    "def getAveragePositions(connectedComponents, variants):\n",
    "    averagePositions=[]\n",
    "    for Labelcomponents in connectedComponents:\n",
    "        label=Labelcomponents[0]\n",
    "        components=Labelcomponents[1]\n",
    "        averages=[]\n",
    "        for component in components:\n",
    "            positions = []\n",
    "            for event in component:\n",
    "                positions.append(getPosition(event, variants))                    \n",
    "            averages.append([component, np.average(positions)])\n",
    "        \n",
    "        averages = sorted(averages, key= lambda x: x[1])\n",
    "\n",
    "        averagePositions.append([label, averages])\n",
    "    return averagePositions\n"
   ]
  },
  {
   "cell_type": "code",
   "execution_count": 277,
   "metadata": {},
   "outputs": [
    {
     "name": "stdout",
     "output_type": "stream",
     "text": [
      "[['a', [[1]]], ['b', [[3, 4]]]]\n",
      "[['a', [[[1], 2.0]]], ['b', [[[3, 4], 2.5]]]]\n"
     ]
    }
   ],
   "source": [
    "print(comps)\n",
    "print(getAveragePositions(comps,[[[0, 'a'], [1,'a'],[2,'b'],[3,'c']],[[4,'b']],[[5,'a']]] ))"
   ]
  },
  {
   "cell_type": "code",
   "execution_count": 298,
   "metadata": {},
   "outputs": [],
   "source": [
    "def verticalRefinement(graphList, candidateLabels, variants, threshold):\n",
    "    \n",
    "    # first, get the connected components\n",
    "    connectedComponents=createConnectedComponents(graphList, candidateLabels)\n",
    "    \n",
    "    # then, get the connected components in the same variant\n",
    "    sameVariants=ComponentsInSameVariant(connectedComponents, variants)\n",
    "\n",
    "    # get the sorted components with their average position\n",
    "    averagePositions=getAveragePositions(sameVariants, variants)\n",
    "\n",
    "    # get the maximal sizes for the connected components in the same variant\n",
    "    maxSizes=getMaxSizes(averagePositions)\n",
    "\n",
    "    # start the refinement for each set of connected components in the same variant\n",
    "    counter=0\n",
    "    lengthComponents=len(averagePositions)\n",
    "    for i in range(lengthComponents):\n",
    "        pairs=averagePositions[i]\n",
    "        label=pairs[0]        \n",
    "        eventPosition=pairs[1]\n",
    "        maxSize=maxSizes[i]\n",
    "        length=len(eventPosition)\n",
    "\n",
    "        for j in range(length):\n",
    "            if j==0 or len(eventPosition[j][1])>= threshold*maxSize:\n",
    "                counter +=1\n",
    "                \n",
    "            for subgraph in graphList:\n",
    "                for node, dict in list(subgraph.nodes(data=True)):\n",
    "                    for event in eventPosition[j][0]:\n",
    "\n",
    "                        if node==event:\n",
    "                            dict['newLabel'] += \".\"+str(counter)\n",
    "\n",
    "    return graphList\n",
    "            \n",
    "                \n",
    "            \n"
   ]
  },
  {
   "cell_type": "code",
   "execution_count": 299,
   "metadata": {},
   "outputs": [
    {
     "name": "stdout",
     "output_type": "stream",
     "text": [
      "[(1, {'curLabel': 'a', 'newLabel': 'a1.1'}), (2, {'curLabel': 'c', 'newLabel': 'c'})]\n",
      "[(3, {'curLabel': 'b', 'newLabel': 'b2.3'}), (4, {'curLabel': 'b', 'newLabel': 'b2.3'}), (5, {'curLabel': 'a', 'newLabel': 'a2.2'})]\n"
     ]
    }
   ],
   "source": [
    "G = nx.Graph()\n",
    "G.add_nodes_from([(1, {'curLabel':'a', 'newLabel':'a'}),(3,{'curLabel':'b', 'newLabel':'b'}), (2,{'curLabel':'c', 'newLabel':'c'}),(4,{'curLabel':'b', 'newLabel':'b'}), (5,{'curLabel':'a', 'newLabel':'a'})])\n",
    "G.add_edges_from([(1, 2, {'weight': 0}), (4, 5, {'weight': 0}), (3, 4, {'weight': 0.05}), (1,5,{'weight':0.7})])\n",
    "\n",
    "subgraphs=clusterDetection(G,0.5)\n",
    "\n",
    "graphs=horizontalRefinement(['a','b'], subgraphs)\n",
    "\n",
    "\n",
    "graphs1=verticalRefinement(subgraphs, ['a','b'], [[(1,'a'),(2,'c')],[(4,'b'),(5,'a')],[(3,'b')]], 0.6)\n",
    "\n",
    "print(graphs1[0].nodes(data=True))\n",
    "print(graphs1[1].nodes(data=True))"
   ]
  },
  {
   "cell_type": "code",
   "execution_count": null,
   "metadata": {},
   "outputs": [],
   "source": []
  },
  {
   "cell_type": "code",
   "execution_count": null,
   "metadata": {},
   "outputs": [],
   "source": []
  }
 ],
 "metadata": {
  "kernelspec": {
   "display_name": "Python 3",
   "language": "python",
   "name": "python3"
  },
  "language_info": {
   "codemirror_mode": {
    "name": "ipython",
    "version": 3
   },
   "file_extension": ".py",
   "mimetype": "text/x-python",
   "name": "python",
   "nbconvert_exporter": "python",
   "pygments_lexer": "ipython3",
   "version": "3.6.7"
  }
 },
 "nbformat": 4,
 "nbformat_minor": 2
}
