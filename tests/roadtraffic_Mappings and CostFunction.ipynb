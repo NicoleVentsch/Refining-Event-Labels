{
 "cells": [
  {
   "cell_type": "code",
   "execution_count": 24,
   "metadata": {},
   "outputs": [],
   "source": [
    "import pm4py\n",
    "import pandas as pd\n",
    "import os\n",
    "import numpy as np\n",
    "import itertools as it\n",
    "from pm4py.objects.log.importer.xes import factory as xes_importer\n",
    "from itertools import combinations\n",
    "from operator import itemgetter\n",
    "from pm4py.algo.filtering.log.variants import variants_filter\n",
    "\n",
    "log = xes_importer.apply(\"C:/Users/Bianka/Documents/chapter_1/roadtraffic50traces.xes\")"
   ]
  },
  {
   "cell_type": "code",
   "execution_count": 25,
   "metadata": {},
   "outputs": [],
   "source": [
    "def lookUpTable(log):\n",
    "    variant=variants_filter.get_variants_from_log_trace_idx(log, parameters=None)\n",
    "    return variant\n",
    "\n",
    "# get the variants from the dicctionary created with lookUpTable() and omit the IDs\n",
    "# input: dicctionary with variants as keys and case IDs as values\n",
    "# stored as a list containing the variants as lists (-> list of lists)\n",
    "def getVariants(dicctionary):\n",
    "    variants=list(dicctionary.keys())\n",
    "    return [variant.split(',') for variant in variants]"
   ]
  },
  {
   "cell_type": "markdown",
   "metadata": {},
   "source": [
    "## Calculating mappings"
   ]
  },
  {
   "cell_type": "code",
   "execution_count": 50,
   "metadata": {},
   "outputs": [],
   "source": [
    "def createEventIDs(variants=[]):\n",
    "    seq = it.count()\n",
    "    return [[(next(seq),event) for event in variant] for variant in variants]\n",
    "\n",
    "\n",
    "def common_labels(variant1, variant2):\n",
    "    var1 = [y[1] for (x, y) in enumerate(variant1)]\n",
    "    var2 = [y[1] for (x, y) in enumerate(variant2)]\n",
    "    return list(set(var1).intersection(var2))\n",
    "\n",
    "\n",
    "\n",
    "def getNumberOfCommonLabels(variant1=[], variant2=[]):\n",
    "    return len(common_labels(variant1,variant2))\n",
    "\n",
    "\n",
    "\n",
    "def get_positions_label(string, variant):\n",
    "    positions = []\n",
    "    i = 0\n",
    "    for x,y in enumerate(variant):\n",
    "        if y[1] == string:\n",
    "            positions.insert(i, y[0])\n",
    "            i +=1\n",
    "    return positions\n",
    "\n",
    "#Args: variant1, variant2 as a list of tuples from createEventIDs(variants)\n",
    "#Returns: list of all possible mappings for variant1 and variant2 where each mapping is a set of matched pairs\n",
    "def possibleMappings(variant1, variant2):\n",
    "    matches = [(a,c) for (a,b) in variant1 for (c,d) in variant2 if b == d]\n",
    "    n = getNumberOfCommonLabels(variant1, variant2)\n",
    "    \n",
    "    return [set(combi) for combi in it.combinations(matches, n)\n",
    "                        if len(set(it.chain.from_iterable(combi))) == (2*n)]\n",
    "\n",
    "#Args: set of candidate labels for refinement, list of all trace variants in event log\n",
    "#Returns: a list with all event IDs whose label is in the candidate set, we use this later for edge creation in the graph\n",
    "def positions_of_candidates(candidates, variants):\n",
    "    positions_of_candidates = []\n",
    "    for variant in variants:\n",
    "        labels = set(map(itemgetter(1), variant))\n",
    "        for label in labels:\n",
    "            if label in candidates:\n",
    "                positions = get_positions_label(label, variant)\n",
    "                positions_of_candidates.extend(positions)\n",
    "    return positions_of_candidates"
   ]
  },
  {
   "cell_type": "code",
   "execution_count": 62,
   "metadata": {},
   "outputs": [
    {
     "name": "stdout",
     "output_type": "stream",
     "text": [
      "{'Create Fine,Send Fine': [0, 12, 27, 31, 36, 48, 49], 'Create Fine,Send Fine,Insert Fine Notification,Add penalty,Send for Credit Collection': [1, 4, 7, 9, 10, 11, 13, 15, 16, 17, 19, 21, 22, 26, 30, 32, 35, 42, 43, 44, 47, 50], 'Create Fine,Send Fine,Insert Fine Notification,Add penalty,Payment': [2, 14, 25, 29, 41, 45, 46], 'Create Fine,Send Fine,Insert Fine Notification,Insert Date Appeal to Prefecture,Add penalty,Send Appeal to Prefecture': [3], 'Create Fine,Payment': [5, 6, 18, 20, 23, 24, 33, 34, 37, 38, 39, 40], 'Create Fine,Send Fine,Insert Fine Notification,Add penalty,Payment,Payment': [8, 28]}\n",
      "Variants: \n",
      " [['Create Fine', 'Send Fine'], ['Create Fine', 'Send Fine', 'Insert Fine Notification', 'Add penalty', 'Send for Credit Collection'], ['Create Fine', 'Send Fine', 'Insert Fine Notification', 'Add penalty', 'Payment'], ['Create Fine', 'Send Fine', 'Insert Fine Notification', 'Insert Date Appeal to Prefecture', 'Add penalty', 'Send Appeal to Prefecture'], ['Create Fine', 'Payment'], ['Create Fine', 'Send Fine', 'Insert Fine Notification', 'Add penalty', 'Payment', 'Payment']]\n",
      "Variants with event IDs: \n",
      " [[(0, 'Create Fine'), (1, 'Send Fine')], [(2, 'Create Fine'), (3, 'Send Fine'), (4, 'Insert Fine Notification'), (5, 'Add penalty'), (6, 'Send for Credit Collection')], [(7, 'Create Fine'), (8, 'Send Fine'), (9, 'Insert Fine Notification'), (10, 'Add penalty'), (11, 'Payment')], [(12, 'Create Fine'), (13, 'Send Fine'), (14, 'Insert Fine Notification'), (15, 'Insert Date Appeal to Prefecture'), (16, 'Add penalty'), (17, 'Send Appeal to Prefecture')], [(18, 'Create Fine'), (19, 'Payment')], [(20, 'Create Fine'), (21, 'Send Fine'), (22, 'Insert Fine Notification'), (23, 'Add penalty'), (24, 'Payment'), (25, 'Payment')]]\n"
     ]
    }
   ],
   "source": [
    "orig_variants = lookUpTable(log)\n",
    "print(orig_variants) #variants as set with ID\n",
    "variants_withoutID = getVariants(orig_variants) #a list containing lists corresponding to variants (without IDs)\n",
    "print(\"Variants: \\n\", variants_withoutID)\n",
    "variants = createEventIDs(variants_withoutID)\n",
    "print(\"Variants with event IDs: \\n\", variants)"
   ]
  },
  {
   "cell_type": "code",
   "execution_count": 63,
   "metadata": {},
   "outputs": [
    {
     "name": "stdout",
     "output_type": "stream",
     "text": [
      "Variant1: \n",
      " [(7, 'Create Fine'), (8, 'Send Fine'), (9, 'Insert Fine Notification'), (10, 'Add penalty'), (11, 'Payment')]\n",
      "Variant2: \n",
      " [(20, 'Create Fine'), (21, 'Send Fine'), (22, 'Insert Fine Notification'), (23, 'Add penalty'), (24, 'Payment'), (25, 'Payment')]\n"
     ]
    }
   ],
   "source": [
    "var1 = variants[2]\n",
    "var2 = variants[5]\n",
    "print(\"Variant1: \\n\", var1)\n",
    "print(\"Variant2: \\n\", var2)"
   ]
  },
  {
   "cell_type": "code",
   "execution_count": 64,
   "metadata": {},
   "outputs": [
    {
     "name": "stdout",
     "output_type": "stream",
     "text": [
      "Pos. of candidates  ['Send Fine', 'Payment'] are: \n",
      " [1, 3, 11, 8, 13, 19, 24, 25, 21]\n"
     ]
    }
   ],
   "source": [
    "candidates = [\"Send Fine\", \"Payment\"]\n",
    "#positions_of_candidates(candidates, eventIDs)\n",
    "print(\"Pos. of candidates \", candidates, \"are: \\n\", positions_of_candidates(candidates,eventIDs))"
   ]
  },
  {
   "cell_type": "code",
   "execution_count": 65,
   "metadata": {},
   "outputs": [
    {
     "data": {
      "text/plain": [
       "[8]"
      ]
     },
     "execution_count": 65,
     "metadata": {},
     "output_type": "execute_result"
    }
   ],
   "source": [
    "get_positions_label(\"Send Fine\", var1)"
   ]
  },
  {
   "cell_type": "code",
   "execution_count": 68,
   "metadata": {},
   "outputs": [
    {
     "name": "stdout",
     "output_type": "stream",
     "text": [
      "Possible mappings between Variant1 and Variant2: \n",
      " [{(7, 20), (9, 22), (8, 21), (11, 24), (10, 23)}, {(7, 20), (9, 22), (8, 21), (10, 23), (11, 25)}]\n"
     ]
    }
   ],
   "source": [
    "maps = possibleMappings(var1, var2)\n",
    "print(\"Possible mappings between Variant1 and Variant2: \\n\", maps)"
   ]
  },
  {
   "cell_type": "markdown",
   "metadata": {},
   "source": [
    "## Cost function"
   ]
  },
  {
   "cell_type": "code",
   "execution_count": 178,
   "metadata": {},
   "outputs": [],
   "source": [
    "def costStructure(variant1, variant2, mapping):\n",
    "    cost_structure = 0\n",
    "    combis = list(combinations(mapping, 2)) \n",
    "    for (pair1, pair2) in combis:\n",
    "            distance1 = abs(pair1[0] - pair2[0])\n",
    "            distance2 = abs(pair1[1] - pair2[1])\n",
    "            cost_structure += abs(distance1 - distance2)/2\n",
    "    return cost_structure\n",
    "\n",
    "\n",
    "def context(variant):\n",
    "    predecessors_list = []\n",
    "    successors_list = []\n",
    "    predecessors = []\n",
    "    successors = []\n",
    "    empty = []\n",
    "    rest = list(map(itemgetter(1), variant[1:]))\n",
    "    predecessors_list.insert(0,empty)\n",
    "    successors_list.insert(0,rest)\n",
    "    for index in range(1,len(variant)):\n",
    "        pred_before = predecessors_list[index-1]\n",
    "        succ_before = successors_list[index-1]\n",
    "        last_label = [variant[index-1][1]]\n",
    "        current_label = variant[index][1]\n",
    "        #predecessors of current label are the predecessors of the last label plus last label\n",
    "        predecessors_list.insert(index, pred_before + last_label)\n",
    "        s_temp = succ_before.copy()\n",
    "        s_temp.remove(current_label)\n",
    "        #successors of current label are the successors of the last label minus current label\n",
    "        successors_list.insert(index, s_temp) \n",
    "    for elem in predecessors_list:\n",
    "        predecessors.append(set(elem))\n",
    "    for elem2 in successors_list:\n",
    "        successors.append(set(elem2))\n",
    "        \n",
    "    return predecessors, successors\n",
    "\n",
    "\n",
    "def costNoMatch(variant1, variant2, mapping):\n",
    "    mapped = set(common_labels(variant1, variant2)) #set of labels that were mapped\n",
    "    unmapped1 = set(map(itemgetter(1), variant1)).difference(mapped) #set of unmapped labels in variant1\n",
    "    unmapped2 = set(map(itemgetter(1), variant2)).difference(mapped) #set of unmapped labels in variant2\n",
    "    firstId1 = variant1[0][0]\n",
    "    firstId2 = variant2[0][0]\n",
    "    pred1, succ1 = context(variant1)\n",
    "    pred2, succ2 = context(variant2)\n",
    "    np1 = 0\n",
    "    ns1 = 0\n",
    "    np2 = 0\n",
    "    ns2 = 0\n",
    "    for unmapped_label1 in unmapped1:\n",
    "        positions1 = [x-firstId1 for x in get_positions_label(unmapped_label1, variant1)]\n",
    "        for p1 in positions1:\n",
    "            np1 += len(pred1[p1])\n",
    "            ns1 += len(succ1[p1])\n",
    "    for unmapped_label2 in unmapped2:\n",
    "        positions2 = [x-firstId2 for x in get_positions_label(unmapped_label2, variant2)]\n",
    "        for p2 in positions2:\n",
    "            np1 += len(pred2[p2])\n",
    "            ns1 += len(succ2[p2])\n",
    "    sum = np1+np2+ns1+ns2\n",
    "    return sum\n",
    "\n",
    "\n",
    "def costMatched(variant1, variant2, mapping):\n",
    "    firstId1 = variant1[0][0]\n",
    "    firstId2 = variant2[0][0]\n",
    "    pred1, succ1 = context(variant1)\n",
    "    pred2, succ2 = context(variant2)\n",
    "    sum = 0\n",
    "    for pair in mapping:\n",
    "        p1 = pair[0]-firstId1\n",
    "        #print(\"Predecessors on pos \", p1, \": \\n\", pred1[p1])\n",
    "        #print(\"Successors on pos \", p1, \": \\n\",succ1[p1])\n",
    "        p2 = pair[1]-firstId2\n",
    "        #print(\"Predecessors on pos \", p2, \": \\n\", pred2[p2])\n",
    "        #print(\"Successors on pos \", p1, \": \\n\", succ2[p2])\n",
    "        sum += len(pred1[p1])+len(pred2[p2])-2*len(pred1[p1].intersection(pred2[p2])) #number of distinct predecessors\n",
    "        sum += len(succ1[p1])+len(succ2[p2])-2*len(succ1[p1].intersection(succ2[p2])) #number of distinct successors\n",
    "    return sum  \n",
    "\n",
    "\n",
    "\n",
    "def costMapping(wm,ws,wn,variant1,variant2,mapping):\n",
    "    cost_struc = costStructure(variant1, variant2, mapping)\n",
    "    cost_nomatch = costNoMatch(variant1, variant2, mapping)\n",
    "    cost_match = costMatched(variant1, variant2, mapping)\n",
    "    return wm*cost_match + ws*cost_struc + wn*cost_nomatch\n",
    "\n",
    "\n",
    "\n",
    "def optimalMapping(variants, variant1, variant2, matrixx, wm, ws, wn):\n",
    "    pos_variant1 = variants.index(variant1)\n",
    "    pos_variant2 = variants.index(variant2)\n",
    "    possible_mappings = possibleMappings(variant1, variant2)\n",
    "    if possible_mappings != []:\n",
    "        best_mapping = possible_mappings[0]\n",
    "        cost_best = costMapping(wm,ws,wn,variant1,variant2,best_mapping)\n",
    "        for mapping in possible_mappings:\n",
    "            cost_new = costMapping(wm,ws,wn,variant1,variant2,mapping)\n",
    "            if cost_new < cost_best:\n",
    "                best_mapping = mapping\n",
    "                cost_best = cost_new\n",
    "        matrixx[pos_variant1, pos_variant2] = cost_best #entry ij in matrix updated with best cost\n",
    "        matrixx[pos_variant2, pos_variant1] = cost_best #entry ji in matrix updated with best cost\n",
    "        #bestMappings.append((best_mapping,cost_best))\n",
    "    else:\n",
    "        matrixx[pos_variant1, pos_variant2] = -42 #entry ij in matrix updated with best cost\n",
    "        matrixx[pos_variant2, pos_variant1] = -42 #entry ji in matrix updated with best cost\n",
    "    return best_mapping, cost_best\n",
    "\n",
    "\n",
    "\n",
    "\n",
    "#Args: variant as a list of tuples, where variant = [(EventID,\"Label\")...]\n",
    "#       k as integer for the k-predecessors/successors\n",
    "def context2(variant,k):\n",
    "    p, s = [], []\n",
    "    n = len(variant)\n",
    "    \n",
    "    for i in range(n):\n",
    "        s.append(set([b for (a,b) in variant[i+1:i+k+1]]))\n",
    "        p.append(set([b for (a,b) in variant[i-n-k:i-n]]))\n",
    "\n",
    "    return p,s"
   ]
  },
  {
   "cell_type": "code",
   "execution_count": 179,
   "metadata": {},
   "outputs": [
    {
     "name": "stdout",
     "output_type": "stream",
     "text": [
      "Mapping chosen to calculate costs: \n",
      " {(7, 20), (9, 22), (8, 21), (10, 23), (11, 25)}\n"
     ]
    }
   ],
   "source": [
    "mapping12 = maps[1]\n",
    "print(\"Mapping chosen to calculate costs: \\n\", mapping12)"
   ]
  },
  {
   "cell_type": "code",
   "execution_count": 180,
   "metadata": {},
   "outputs": [
    {
     "name": "stdout",
     "output_type": "stream",
     "text": [
      "CostStruc: 2.0\n",
      "CostNoMatch: 0\n",
      "CostMatched: 1\n"
     ]
    }
   ],
   "source": [
    "print(\"CostStruc:\", costStructure(var1,var2,mapping12))\n",
    "print(\"CostNoMatch:\", costNoMatch(var1,var2,mapping12))\n",
    "print(\"CostMatched:\", costMatched(var1,var2,mapping12))"
   ]
  },
  {
   "cell_type": "code",
   "execution_count": 181,
   "metadata": {},
   "outputs": [
    {
     "name": "stdout",
     "output_type": "stream",
     "text": [
      "Variant3: [(0, 'Create Fine'), (1, 'Send Fine')]\n",
      "Mapping for Variant1 and variant3: {(8, 1), (7, 0)}\n",
      "CostStuc: 0.0\n",
      "CostNoMatch: 12\n",
      "CostMatched: 6\n",
      "Cost of mapping: 18.0\n"
     ]
    }
   ],
   "source": [
    "var3 = variants[0]\n",
    "mapping13 = possibleMappings(var1,var3)[0]\n",
    "print(\"Variant3:\", var3)\n",
    "print(\"Mapping for Variant1 and variant3:\", mapping13)\n",
    "print(\"CostStuc:\", costStructure(var1,var3,mapping13))\n",
    "print(\"CostNoMatch:\", costNoMatch(var1,var3,mapping13))\n",
    "print(\"CostMatched:\", costMatched(var1,var3,mapping13))\n",
    "print(\"Cost of mapping:\", costMapping(1,1,1,var1,var3,mapping13))"
   ]
  },
  {
   "cell_type": "markdown",
   "metadata": {},
   "source": [
    "## Calculating best mappings for all pairs and saving best costs in a matrix"
   ]
  },
  {
   "cell_type": "code",
   "execution_count": 174,
   "metadata": {},
   "outputs": [
    {
     "data": {
      "text/plain": [
       "array([[0., 0., 0., 0., 0., 0.],\n",
       "       [0., 0., 0., 0., 0., 0.],\n",
       "       [0., 0., 0., 0., 0., 0.],\n",
       "       [0., 0., 0., 0., 0., 0.],\n",
       "       [0., 0., 0., 0., 0., 0.],\n",
       "       [0., 0., 0., 0., 0., 0.]])"
      ]
     },
     "execution_count": 174,
     "metadata": {},
     "output_type": "execute_result"
    }
   ],
   "source": [
    "count = len(variants) \n",
    "C = np.zeros((count,count)) \n",
    "C"
   ]
  },
  {
   "cell_type": "code",
   "execution_count": 182,
   "metadata": {},
   "outputs": [
    {
     "name": "stdout",
     "output_type": "stream",
     "text": [
      "MaxCost used for normalization: 33.5\n",
      "Cost Matrix C: \n",
      " [[0.         0.53731343 0.53731343 0.8358209  0.11940299 0.71641791]\n",
      " [0.53731343 0.         0.47761194 0.82089552 0.65671642 0.65671642]\n",
      " [0.53731343 0.47761194 0.         0.82089552 0.58208955 0.02985075]\n",
      " [0.8358209  0.82089552 0.82089552 0.         0.95522388 1.        ]\n",
      " [0.11940299 0.65671642 0.58208955 0.95522388 0.         0.6119403 ]\n",
      " [0.71641791 0.65671642 0.02985075 1.         0.6119403  0.        ]]\n",
      "No of mappings: 15\n",
      "[({(1, 3), (0, 2)}, 18.0), ({(1, 8), (0, 7)}, 18.0), ({(1, 13), (0, 12)}, 28.0), ({(0, 18)}, 4), ({(1, 21), (0, 20)}, 24.0), ({(2, 7), (5, 10), (4, 9), (3, 8)}, 16.0), ({(4, 14), (2, 12), (5, 16), (3, 13)}, 27.5), ({(2, 18)}, 22), ({(4, 22), (5, 23), (2, 20), (3, 21)}, 22.0), ({(7, 12), (10, 16), (8, 13), (9, 14)}, 27.5), ({(11, 19), (7, 18)}, 19.5), ({(7, 20), (9, 22), (8, 21), (11, 24), (10, 23)}, 1.0), ({(12, 18)}, 32), ({(12, 20), (13, 21), (16, 23), (14, 22)}, 33.5), ({(19, 24), (18, 20)}, 20.5)]\n"
     ]
    }
   ],
   "source": [
    "bestMappings = [] #list containing all best mappings\n",
    "\n",
    "all_pairs = list(combinations(variants, 2))\n",
    "for pair in all_pairs:\n",
    "    optimal = optimalMapping(variants, pair[0],pair[1],C,1,1,1)\n",
    "    best_mapping = optimal[0]\n",
    "    best_cost = optimal[1]\n",
    "    bestMappings.append((best_mapping,best_cost))\n",
    "    \n",
    "maxCost = np.amax(C)\n",
    "print(\"MaxCost used for normalization:\", maxCost)\n",
    "C = C/maxCost\n",
    "print(\"Cost Matrix C: \\n\", C)\n",
    "print(\"No of mappings:\", len(bestmappings))\n",
    "\n",
    "print(bestmappings)"
   ]
  },
  {
   "cell_type": "code",
   "execution_count": null,
   "metadata": {},
   "outputs": [],
   "source": []
  },
  {
   "cell_type": "code",
   "execution_count": null,
   "metadata": {},
   "outputs": [],
   "source": []
  }
 ],
 "metadata": {
  "kernelspec": {
   "display_name": "Python 3",
   "language": "python",
   "name": "python3"
  },
  "language_info": {
   "codemirror_mode": {
    "name": "ipython",
    "version": 3
   },
   "file_extension": ".py",
   "mimetype": "text/x-python",
   "name": "python",
   "nbconvert_exporter": "python",
   "pygments_lexer": "ipython3",
   "version": "3.7.0"
  }
 },
 "nbformat": 4,
 "nbformat_minor": 2
}
