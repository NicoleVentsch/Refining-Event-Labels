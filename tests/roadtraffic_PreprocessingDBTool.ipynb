{
 "cells": [
  {
   "cell_type": "code",
   "execution_count": 5,
   "metadata": {},
   "outputs": [
    {
     "data": {
      "text/plain": [
       "51"
      ]
     },
     "execution_count": 5,
     "metadata": {},
     "output_type": "execute_result"
    }
   ],
   "source": [
    "import pm4py\n",
    "import pandas as pd\n",
    "import os\n",
    "import numpy as np\n",
    "import itertools as it\n",
    "from pm4py.objects.log.importer.xes import factory as xes_importer\n",
    "from itertools import combinations\n",
    "from operator import itemgetter\n",
    "from pm4py.algo.filtering.log.variants import variants_filter\n",
    "\n",
    "log = xes_importer.apply(\"C:/Users/Bianka/Documents/chapter_1/roadtraffic50traces.xes\")\n",
    "#log[0]\n",
    "len(log)"
   ]
  },
  {
   "cell_type": "code",
   "execution_count": 6,
   "metadata": {},
   "outputs": [],
   "source": [
    "class DBTool:\n",
    "\n",
    "    def __init__(self, eventLog):\n",
    "        self.__vt = self.__variantTable(eventLog)\n",
    "        self.__evt = self.__eventVariantTable(self.__vt)\n",
    "        \n",
    "        \n",
    "    def __variantTable(self, eventLog):\n",
    "        \n",
    "        data = pd.DataFrame(variants_filter.get_variants_from_log_trace_idx(eventLog, parameters=None).items())\n",
    "        data.columns = ['Variants','Traces']\n",
    "        data['Variants'] = data['Variants'].apply(lambda r: r.split(','))\n",
    "        data.index.name = 'VariantID'\n",
    "        \n",
    "        return data\n",
    "    \n",
    "    \n",
    "    def __eventVariantTable(self, variantTable):\n",
    "        \n",
    "        data = self.__vt['Variants'].apply(pd.Series).reset_index() \\\n",
    "        .melt(id_vars = ['VariantID'], var_name='Position', value_name='Event').dropna() \\\n",
    "        .sort_values('VariantID', kind = 'mergesort').reset_index() \\\n",
    "        .drop(['index'], axis = 1)\n",
    "        data.index.name = 'EventID'\n",
    "        \n",
    "        return data\n",
    "\n",
    "\n",
    "    def getVariants(self): \n",
    "        return list(self.__vt['Variants'])\n",
    "    \n",
    "    \n",
    "    def getVariantByID(self, vID):       \n",
    "        return self.__vt.iloc[vID]['Variants']\n",
    "    \n",
    "    \n",
    "    def getVariantByEventID(self, eID): \n",
    "        vID = self.__evt.iloc[eID]['VariantID']    \n",
    "        return self.getVariantByID(vID)\n",
    "    \n",
    "    def getTracesByVariantID(self, vID):\n",
    "        return self.__vt.iloc[vID]['Traces']\n",
    "    \n",
    "    def getEventByID(self, eID):  \n",
    "        return self.__evt.iloc[eID]\n",
    "    \n",
    "    \n",
    "    def getVariantTable(self):\n",
    "        return self.__vt\n",
    "    \n",
    "    def getEventVariantTable(self):\n",
    "        return self.__evt"
   ]
  },
  {
   "cell_type": "code",
   "execution_count": 20,
   "metadata": {},
   "outputs": [
    {
     "data": {
      "text/html": [
       "<div>\n",
       "<style scoped>\n",
       "    .dataframe tbody tr th:only-of-type {\n",
       "        vertical-align: middle;\n",
       "    }\n",
       "\n",
       "    .dataframe tbody tr th {\n",
       "        vertical-align: top;\n",
       "    }\n",
       "\n",
       "    .dataframe thead th {\n",
       "        text-align: right;\n",
       "    }\n",
       "</style>\n",
       "<table border=\"1\" class=\"dataframe\">\n",
       "  <thead>\n",
       "    <tr style=\"text-align: right;\">\n",
       "      <th></th>\n",
       "      <th>Variants</th>\n",
       "      <th>Traces</th>\n",
       "    </tr>\n",
       "    <tr>\n",
       "      <th>VariantID</th>\n",
       "      <th></th>\n",
       "      <th></th>\n",
       "    </tr>\n",
       "  </thead>\n",
       "  <tbody>\n",
       "    <tr>\n",
       "      <th>0</th>\n",
       "      <td>[Create Fine, Send Fine]</td>\n",
       "      <td>[0, 12, 27, 31, 36, 48, 49]</td>\n",
       "    </tr>\n",
       "    <tr>\n",
       "      <th>1</th>\n",
       "      <td>[Create Fine, Send Fine, Insert Fine Notificat...</td>\n",
       "      <td>[1, 4, 7, 9, 10, 11, 13, 15, 16, 17, 19, 21, 2...</td>\n",
       "    </tr>\n",
       "    <tr>\n",
       "      <th>2</th>\n",
       "      <td>[Create Fine, Send Fine, Insert Fine Notificat...</td>\n",
       "      <td>[2, 14, 25, 29, 41, 45, 46]</td>\n",
       "    </tr>\n",
       "    <tr>\n",
       "      <th>3</th>\n",
       "      <td>[Create Fine, Send Fine, Insert Fine Notificat...</td>\n",
       "      <td>[3]</td>\n",
       "    </tr>\n",
       "    <tr>\n",
       "      <th>4</th>\n",
       "      <td>[Create Fine, Payment]</td>\n",
       "      <td>[5, 6, 18, 20, 23, 24, 33, 34, 37, 38, 39, 40]</td>\n",
       "    </tr>\n",
       "    <tr>\n",
       "      <th>5</th>\n",
       "      <td>[Create Fine, Send Fine, Insert Fine Notificat...</td>\n",
       "      <td>[8, 28]</td>\n",
       "    </tr>\n",
       "  </tbody>\n",
       "</table>\n",
       "</div>"
      ],
      "text/plain": [
       "                                                    Variants  \\\n",
       "VariantID                                                      \n",
       "0                                   [Create Fine, Send Fine]   \n",
       "1          [Create Fine, Send Fine, Insert Fine Notificat...   \n",
       "2          [Create Fine, Send Fine, Insert Fine Notificat...   \n",
       "3          [Create Fine, Send Fine, Insert Fine Notificat...   \n",
       "4                                     [Create Fine, Payment]   \n",
       "5          [Create Fine, Send Fine, Insert Fine Notificat...   \n",
       "\n",
       "                                                      Traces  \n",
       "VariantID                                                     \n",
       "0                                [0, 12, 27, 31, 36, 48, 49]  \n",
       "1          [1, 4, 7, 9, 10, 11, 13, 15, 16, 17, 19, 21, 2...  \n",
       "2                                [2, 14, 25, 29, 41, 45, 46]  \n",
       "3                                                        [3]  \n",
       "4             [5, 6, 18, 20, 23, 24, 33, 34, 37, 38, 39, 40]  \n",
       "5                                                    [8, 28]  "
      ]
     },
     "execution_count": 20,
     "metadata": {},
     "output_type": "execute_result"
    }
   ],
   "source": [
    "db = DBTool(log)\n",
    "db.getVariantTable() #5 variants\n",
    "#print(log[36], \"\\n\")\n",
    "#print(log[48])"
   ]
  },
  {
   "cell_type": "code",
   "execution_count": 21,
   "metadata": {},
   "outputs": [
    {
     "data": {
      "text/html": [
       "<div>\n",
       "<style scoped>\n",
       "    .dataframe tbody tr th:only-of-type {\n",
       "        vertical-align: middle;\n",
       "    }\n",
       "\n",
       "    .dataframe tbody tr th {\n",
       "        vertical-align: top;\n",
       "    }\n",
       "\n",
       "    .dataframe thead th {\n",
       "        text-align: right;\n",
       "    }\n",
       "</style>\n",
       "<table border=\"1\" class=\"dataframe\">\n",
       "  <thead>\n",
       "    <tr style=\"text-align: right;\">\n",
       "      <th></th>\n",
       "      <th>VariantID</th>\n",
       "      <th>Position</th>\n",
       "      <th>Event</th>\n",
       "    </tr>\n",
       "    <tr>\n",
       "      <th>EventID</th>\n",
       "      <th></th>\n",
       "      <th></th>\n",
       "      <th></th>\n",
       "    </tr>\n",
       "  </thead>\n",
       "  <tbody>\n",
       "    <tr>\n",
       "      <th>0</th>\n",
       "      <td>0</td>\n",
       "      <td>0</td>\n",
       "      <td>Create Fine</td>\n",
       "    </tr>\n",
       "    <tr>\n",
       "      <th>1</th>\n",
       "      <td>0</td>\n",
       "      <td>1</td>\n",
       "      <td>Send Fine</td>\n",
       "    </tr>\n",
       "    <tr>\n",
       "      <th>2</th>\n",
       "      <td>1</td>\n",
       "      <td>0</td>\n",
       "      <td>Create Fine</td>\n",
       "    </tr>\n",
       "    <tr>\n",
       "      <th>3</th>\n",
       "      <td>1</td>\n",
       "      <td>1</td>\n",
       "      <td>Send Fine</td>\n",
       "    </tr>\n",
       "    <tr>\n",
       "      <th>4</th>\n",
       "      <td>1</td>\n",
       "      <td>2</td>\n",
       "      <td>Insert Fine Notification</td>\n",
       "    </tr>\n",
       "    <tr>\n",
       "      <th>5</th>\n",
       "      <td>1</td>\n",
       "      <td>3</td>\n",
       "      <td>Add penalty</td>\n",
       "    </tr>\n",
       "    <tr>\n",
       "      <th>6</th>\n",
       "      <td>1</td>\n",
       "      <td>4</td>\n",
       "      <td>Send for Credit Collection</td>\n",
       "    </tr>\n",
       "    <tr>\n",
       "      <th>7</th>\n",
       "      <td>2</td>\n",
       "      <td>0</td>\n",
       "      <td>Create Fine</td>\n",
       "    </tr>\n",
       "    <tr>\n",
       "      <th>8</th>\n",
       "      <td>2</td>\n",
       "      <td>1</td>\n",
       "      <td>Send Fine</td>\n",
       "    </tr>\n",
       "    <tr>\n",
       "      <th>9</th>\n",
       "      <td>2</td>\n",
       "      <td>2</td>\n",
       "      <td>Insert Fine Notification</td>\n",
       "    </tr>\n",
       "    <tr>\n",
       "      <th>10</th>\n",
       "      <td>2</td>\n",
       "      <td>3</td>\n",
       "      <td>Add penalty</td>\n",
       "    </tr>\n",
       "    <tr>\n",
       "      <th>11</th>\n",
       "      <td>2</td>\n",
       "      <td>4</td>\n",
       "      <td>Payment</td>\n",
       "    </tr>\n",
       "    <tr>\n",
       "      <th>12</th>\n",
       "      <td>3</td>\n",
       "      <td>0</td>\n",
       "      <td>Create Fine</td>\n",
       "    </tr>\n",
       "    <tr>\n",
       "      <th>13</th>\n",
       "      <td>3</td>\n",
       "      <td>1</td>\n",
       "      <td>Send Fine</td>\n",
       "    </tr>\n",
       "    <tr>\n",
       "      <th>14</th>\n",
       "      <td>3</td>\n",
       "      <td>2</td>\n",
       "      <td>Insert Fine Notification</td>\n",
       "    </tr>\n",
       "    <tr>\n",
       "      <th>15</th>\n",
       "      <td>3</td>\n",
       "      <td>3</td>\n",
       "      <td>Insert Date Appeal to Prefecture</td>\n",
       "    </tr>\n",
       "    <tr>\n",
       "      <th>16</th>\n",
       "      <td>3</td>\n",
       "      <td>4</td>\n",
       "      <td>Add penalty</td>\n",
       "    </tr>\n",
       "    <tr>\n",
       "      <th>17</th>\n",
       "      <td>3</td>\n",
       "      <td>5</td>\n",
       "      <td>Send Appeal to Prefecture</td>\n",
       "    </tr>\n",
       "    <tr>\n",
       "      <th>18</th>\n",
       "      <td>4</td>\n",
       "      <td>0</td>\n",
       "      <td>Create Fine</td>\n",
       "    </tr>\n",
       "    <tr>\n",
       "      <th>19</th>\n",
       "      <td>4</td>\n",
       "      <td>1</td>\n",
       "      <td>Payment</td>\n",
       "    </tr>\n",
       "    <tr>\n",
       "      <th>20</th>\n",
       "      <td>5</td>\n",
       "      <td>0</td>\n",
       "      <td>Create Fine</td>\n",
       "    </tr>\n",
       "    <tr>\n",
       "      <th>21</th>\n",
       "      <td>5</td>\n",
       "      <td>1</td>\n",
       "      <td>Send Fine</td>\n",
       "    </tr>\n",
       "    <tr>\n",
       "      <th>22</th>\n",
       "      <td>5</td>\n",
       "      <td>2</td>\n",
       "      <td>Insert Fine Notification</td>\n",
       "    </tr>\n",
       "    <tr>\n",
       "      <th>23</th>\n",
       "      <td>5</td>\n",
       "      <td>3</td>\n",
       "      <td>Add penalty</td>\n",
       "    </tr>\n",
       "    <tr>\n",
       "      <th>24</th>\n",
       "      <td>5</td>\n",
       "      <td>4</td>\n",
       "      <td>Payment</td>\n",
       "    </tr>\n",
       "    <tr>\n",
       "      <th>25</th>\n",
       "      <td>5</td>\n",
       "      <td>5</td>\n",
       "      <td>Payment</td>\n",
       "    </tr>\n",
       "  </tbody>\n",
       "</table>\n",
       "</div>"
      ],
      "text/plain": [
       "         VariantID Position                             Event\n",
       "EventID                                                      \n",
       "0                0        0                       Create Fine\n",
       "1                0        1                         Send Fine\n",
       "2                1        0                       Create Fine\n",
       "3                1        1                         Send Fine\n",
       "4                1        2          Insert Fine Notification\n",
       "5                1        3                       Add penalty\n",
       "6                1        4        Send for Credit Collection\n",
       "7                2        0                       Create Fine\n",
       "8                2        1                         Send Fine\n",
       "9                2        2          Insert Fine Notification\n",
       "10               2        3                       Add penalty\n",
       "11               2        4                           Payment\n",
       "12               3        0                       Create Fine\n",
       "13               3        1                         Send Fine\n",
       "14               3        2          Insert Fine Notification\n",
       "15               3        3  Insert Date Appeal to Prefecture\n",
       "16               3        4                       Add penalty\n",
       "17               3        5         Send Appeal to Prefecture\n",
       "18               4        0                       Create Fine\n",
       "19               4        1                           Payment\n",
       "20               5        0                       Create Fine\n",
       "21               5        1                         Send Fine\n",
       "22               5        2          Insert Fine Notification\n",
       "23               5        3                       Add penalty\n",
       "24               5        4                           Payment\n",
       "25               5        5                           Payment"
      ]
     },
     "execution_count": 21,
     "metadata": {},
     "output_type": "execute_result"
    }
   ],
   "source": [
    "db.getEventVariantTable()"
   ]
  },
  {
   "cell_type": "code",
   "execution_count": 12,
   "metadata": {},
   "outputs": [
    {
     "data": {
      "text/plain": [
       "['Create Fine',\n",
       " 'Send Fine',\n",
       " 'Insert Fine Notification',\n",
       " 'Add penalty',\n",
       " 'Payment',\n",
       " 'Payment']"
      ]
     },
     "execution_count": 12,
     "metadata": {},
     "output_type": "execute_result"
    }
   ],
   "source": [
    "db.getVariantByID(5) #returns trace with ID=5"
   ]
  },
  {
   "cell_type": "code",
   "execution_count": 22,
   "metadata": {},
   "outputs": [
    {
     "data": {
      "text/plain": [
       "['Create Fine',\n",
       " 'Send Fine',\n",
       " 'Insert Fine Notification',\n",
       " 'Add penalty',\n",
       " 'Payment']"
      ]
     },
     "execution_count": 22,
     "metadata": {},
     "output_type": "execute_result"
    }
   ],
   "source": [
    "db.getVariantByEventID(8) #returns trace that contains event with ID=8"
   ]
  },
  {
   "cell_type": "code",
   "execution_count": 24,
   "metadata": {},
   "outputs": [
    {
     "data": {
      "text/plain": [
       "[8, 28]"
      ]
     },
     "execution_count": 24,
     "metadata": {},
     "output_type": "execute_result"
    }
   ],
   "source": [
    "db.getTracesByVariantID(5) #IDs of traces with variant number 5"
   ]
  },
  {
   "cell_type": "code",
   "execution_count": 27,
   "metadata": {},
   "outputs": [
    {
     "data": {
      "text/plain": [
       "VariantID            2\n",
       "Position             1\n",
       "Event        Send Fine\n",
       "Name: 8, dtype: object"
      ]
     },
     "execution_count": 27,
     "metadata": {},
     "output_type": "execute_result"
    }
   ],
   "source": [
    "db.getEventByID(8)"
   ]
  },
  {
   "cell_type": "code",
   "execution_count": 32,
   "metadata": {},
   "outputs": [
    {
     "name": "stdout",
     "output_type": "stream",
     "text": [
      "2\n",
      "1\n",
      "Send Fine\n"
     ]
    }
   ],
   "source": [
    "print(db.getEventByID(8)[0]) #variantID\n",
    "print(db.getEventByID(8)[1]) #position in the variant\n",
    "print(db.getEventByID(8)[2]) #label"
   ]
  },
  {
   "cell_type": "code",
   "execution_count": null,
   "metadata": {},
   "outputs": [],
   "source": []
  }
 ],
 "metadata": {
  "kernelspec": {
   "display_name": "Python 3",
   "language": "python",
   "name": "python3"
  },
  "language_info": {
   "codemirror_mode": {
    "name": "ipython",
    "version": 3
   },
   "file_extension": ".py",
   "mimetype": "text/x-python",
   "name": "python",
   "nbconvert_exporter": "python",
   "pygments_lexer": "ipython3",
   "version": "3.7.0"
  }
 },
 "nbformat": 4,
 "nbformat_minor": 2
}
