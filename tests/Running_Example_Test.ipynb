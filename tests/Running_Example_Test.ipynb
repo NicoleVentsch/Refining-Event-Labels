{
 "cells": [
  {
   "cell_type": "code",
   "execution_count": 1,
   "metadata": {},
   "outputs": [],
   "source": [
    "import pm4py\n",
    "import os\n",
    "import numpy as np\n",
    "import networkx as nx\n",
    "import itertools as it\n",
    "from operator import itemgetter\n",
    "from refiningEventLabels.lib.graph.graphTool import graphTool \n",
    "from refiningEventLabels.lib.objects.customParameters import customParameters\n",
    "from refiningEventLabels.lib.refinement.labelRefinement import verticalRefinement, horizontalRefinement\n",
    "from refiningEventLabels.lib.eventLogProcessing.DBTool import DBTool \n",
    "from refiningEventLabels.lib.eventLogProcessing.postProcessing import eventLogRenaming\n",
    "from refiningEventLabels.lib.costFunction.mappings import createEventIDs, positionsOfCandidates\n",
    "from refiningEventLabels.lib.costFunction.cost import bestMappings\n",
    "from pm4py.objects.log.importer.xes import factory as xes_import_factory"
   ]
  },
  {
   "cell_type": "markdown",
   "metadata": {},
   "source": [
    "# Here we use the event log \"running-example\" which is also used for the documentation in pm4py. "
   ]
  },
  {
   "cell_type": "code",
   "execution_count": 2,
   "metadata": {},
   "outputs": [],
   "source": [
    "log = xes_import_factory.apply(\"refiningEventLabels/lib/running-example.xes\")\n",
    "orgLog = xes_import_factory.apply(\"refiningEventLabels/lib/running-example.xes\")"
   ]
  },
  {
   "cell_type": "markdown",
   "metadata": {},
   "source": [
    "# Preprocessing functions"
   ]
  },
  {
   "cell_type": "code",
   "execution_count": 3,
   "metadata": {},
   "outputs": [],
   "source": [
    "# get the variants with the corresponding IDs (-> lookup-map)\n",
    "# input: log (imported with xes_importer)\n",
    "# stored as a dicctionary with variants as key and as value the list of case IDs that share the variant\n",
    "from pm4py.algo.filtering.log.variants import variants_filter\n",
    "\n",
    "def lookUpTable(log):\n",
    "    variant=variants_filter.get_variants_from_log_trace_idx(log, parameters=None)\n",
    "    return variant\n",
    "\n",
    "# get the variants from the dicctionary created with lookUpTable() and omit the IDs\n",
    "# input: dicctionary with variants as keys and case IDs as values\n",
    "# stored as a list containing the variants as lists (-> list of lists)\n",
    "def getVariants(dicctionary):\n",
    "    variants=list(dicctionary.keys())\n",
    "    return [variant.split(',') for variant in variants]"
   ]
  },
  {
   "cell_type": "markdown",
   "metadata": {},
   "source": [
    "# Calculating mappings"
   ]
  },
  {
   "cell_type": "code",
   "execution_count": 4,
   "metadata": {},
   "outputs": [],
   "source": [
    "def createEventIDs(variants=[]):\n",
    "    seq = it.count()\n",
    "    return [[(next(seq),event) for event in variant] for variant in variants]\n",
    "\n",
    "def common_labels(variant1, variant2):\n",
    "    var1 = [y[1] for (x, y) in enumerate(variant1)]\n",
    "    var2 = [y[1] for (x, y) in enumerate(variant2)]\n",
    "    return list(set(var1).intersection(var2))\n",
    "\n",
    "#Args: variant1, variant2 as a list of tuples from createEventIDs(variants)\n",
    "#Returns: number of unique events in variant1 and variant2\n",
    "def getNumberOfCommonLabels(variant1=[], variant2=[]):\n",
    "    s1 = set([b for (a,b) in variant1])\n",
    "    s2 = set([b for (a,b) in variant2])\n",
    "    \n",
    "    return len(s1.intersection(s2))\n",
    "\n",
    "def get_positions_label(string, variant):\n",
    "    positions = []\n",
    "    i = 0\n",
    "    for x,y in enumerate(variant):\n",
    "        if y[1] == string:\n",
    "            positions.insert(i, y[0])\n",
    "            i +=1\n",
    "    return positions\n",
    "\n",
    "#Args: variant1, variant2 as a list of tuples from createEventIDs(variants)\n",
    "#Returns: list of lists with all possible mappings for variant1 and variant2\n",
    "def possibleMappings(variant1=[], variant2=[]):\n",
    "    matches = [(a,c) for (a,b) in variant1 for (c,d) in variant2 if b == d]\n",
    "    n = getNumberOfCommonLabels(variant1, variant2)\n",
    "    \n",
    "    return [list(combi) for combi in it.combinations(matches, n)\n",
    "                        if len(set(it.chain.from_iterable(combi))) == (2*n)]\n",
    "\n",
    "def positions_of_candidates(candidates, variants):\n",
    "    positions_of_candidates = []\n",
    "    for variant in variants:\n",
    "        labels = set(map(itemgetter(1), variant))\n",
    "        for label in labels:\n",
    "            if label in candidates:\n",
    "                positions = get_positions_label(label, variant)\n",
    "                positions_of_candidates.extend(positions)\n",
    "    return positions_of_candidates"
   ]
  },
  {
   "cell_type": "markdown",
   "metadata": {},
   "source": [
    "# Calculating costs"
   ]
  },
  {
   "cell_type": "code",
   "execution_count": 5,
   "metadata": {},
   "outputs": [],
   "source": [
    "from itertools import combinations\n",
    "def costStructure(variant1, variant2, mapping):\n",
    "    cost_structure = 0\n",
    "    combis = list(combinations(mapping, 2)) \n",
    "    for (pair1, pair2) in combis:\n",
    "            distance1 = abs(pair1[0] - pair2[0])\n",
    "            distance2 = abs(pair1[1] - pair2[1])\n",
    "            cost_structure += abs(distance1 - distance2)/2\n",
    "    return cost_structure\n",
    "\n",
    "def context(variant):\n",
    "    predecessors_list = []\n",
    "    successors_list = []\n",
    "    predecessors = []\n",
    "    successors = []\n",
    "    empty = []\n",
    "    rest = list(map(itemgetter(1), variant[1:]))\n",
    "    predecessors_list.insert(0,empty)\n",
    "    successors_list.insert(0,rest)\n",
    "    for index in range(1,len(variant)):\n",
    "        pred_before = predecessors_list[index-1]\n",
    "        succ_before = successors_list[index-1]\n",
    "        last_label = [variant[index-1][1]]\n",
    "        current_label = variant[index][1]\n",
    "        #predecessors of current label are the predecessors of the last label plus last label\n",
    "        predecessors_list.insert(index, pred_before + last_label)\n",
    "        s_temp = succ_before.copy()\n",
    "        s_temp.remove(current_label)\n",
    "        #successors of current label are the successors of the last label minus current label\n",
    "        successors_list.insert(index, s_temp) \n",
    "    for elem in predecessors_list:\n",
    "        predecessors.append(set(elem))\n",
    "    for elem2 in successors_list:\n",
    "        successors.append(set(elem2))\n",
    "        \n",
    "    return predecessors, successors\n",
    "\n",
    "def costNoMatch(variant1, variant2, mapping):\n",
    "    mapped = set(common_labels(variant1, variant2)) #set of labels that were mapped\n",
    "    unmapped1 = set(map(itemgetter(1), variant1)).difference(mapped) #set of unmapped labels in variant1\n",
    "    unmapped2 = set(map(itemgetter(1), variant2)).difference(mapped) #set of unmapped labels in variant2\n",
    "    firstId1 = variant1[0][0]\n",
    "    firstId2 = variant2[0][0]\n",
    "    pred1, succ1 = context(variant1)\n",
    "    pred2, succ2 = context(variant2)\n",
    "    np1 = 0\n",
    "    ns1 = 0\n",
    "    np2 = 0\n",
    "    ns2 = 0\n",
    "    for unmapped_label1 in unmapped1:\n",
    "        positions1 = [x-firstId1 for x in get_positions_label(unmapped_label1, variant1)]\n",
    "        for p1 in positions1:\n",
    "            np1 += len(pred1[p1])\n",
    "            ns1 += len(succ1[p1])\n",
    "    for unmapped_label2 in unmapped2:\n",
    "        positions2 = [x-firstId2 for x in get_positions_label(unmapped_label2, variant2)]\n",
    "        for p2 in positions2:\n",
    "            np1 += len(pred2[p2])\n",
    "            ns1 += len(succ2[p2])\n",
    "    sum = np1+np2+ns1+ns2\n",
    "    return sum\n",
    "\n",
    "def costMatched(variant1, variant2, mapping):\n",
    "    firstId1 = variant1[0][0]\n",
    "    firstId2 = variant2[0][0]\n",
    "    pred1, succ1 = context(variant1)\n",
    "    pred2, succ2 = context(variant2)\n",
    "    sum = 0\n",
    "    for pair in mapping:\n",
    "        p1 = pair[0]-firstId1\n",
    "        p2 = pair[1]-firstId2\n",
    "        sum += len(pred1[p1])+len(pred2[p2])-2*len(pred1[p1].intersection(pred2[p2])) #number of distinct predecessors\n",
    "        sum += len(succ1[p1])+len(succ2[p2])-2*len(succ1[p1].intersection(succ2[p2])) #number of distinct successors\n",
    "    return sum\n",
    "\n",
    "def costMapping(cp,variant1,variant2,mapping):\n",
    "    \n",
    "    wm = cp.getMatchWeight()\n",
    "    ws = cp.getStructureWeight()\n",
    "    wn = cp.getNoMatchWeight()\n",
    "     \n",
    "    cost_struc = costStructure(variant1, variant2, mapping)\n",
    "    cost_nomatch = costNoMatch(variant1, variant2, mapping)\n",
    "    cost_match = costMatched(variant1, variant2, mapping)\n",
    "    return wm*cost_match + ws*cost_struc + wn*cost_nomatch"
   ]
  },
  {
   "cell_type": "code",
   "execution_count": 6,
   "metadata": {},
   "outputs": [],
   "source": [
    "def optimalMapping(variants, variant1, variant2, matrixx, cp):\n",
    "    pos_variant1 = variants.index(variant1)\n",
    "    pos_variant2 = variants.index(variant2)\n",
    "    possible_mappings = possibleMappings(variant1, variant2)\n",
    "    if possible_mappings != []:\n",
    "        best_mapping = possible_mappings[0]\n",
    "        cost_best = costMapping(cp,variant1,variant2,best_mapping)\n",
    "        for mapping in possible_mappings:\n",
    "            cost_new = costMapping(cp,variant1,variant2,mapping)\n",
    "            if cost_new < cost_best:\n",
    "                best_mapping = mapping\n",
    "                cost_best = cost_new\n",
    "        matrixx[pos_variant1, pos_variant2] = cost_best #entry ij in matrix updated with best cost\n",
    "        matrixx[pos_variant2, pos_variant1] = cost_best #entry ji in matrix updated with best cost\n",
    "        #bestMappings.append((best_mapping,cost_best))\n",
    "    else:\n",
    "        matrixx[pos_variant1, pos_variant2] = -42 #entry ij in matrix updated with best cost\n",
    "        matrixx[pos_variant2, pos_variant1] = -42 #entry ji in matrix updated with best cost\n",
    "    return best_mapping, cost_best"
   ]
  },
  {
   "cell_type": "markdown",
   "metadata": {},
   "source": [
    "# Testing functionalities with \"running-example\""
   ]
  },
  {
   "cell_type": "code",
   "execution_count": 7,
   "metadata": {},
   "outputs": [
    {
     "name": "stdout",
     "output_type": "stream",
     "text": [
      "Look-Up Table: \n",
      " {'register request,examine casually,check ticket,decide,reinitiate request,examine thoroughly,check ticket,decide,pay compensation': [0], 'register request,check ticket,examine casually,decide,pay compensation': [1], 'register request,examine thoroughly,check ticket,decide,reject request': [2], 'register request,examine casually,check ticket,decide,pay compensation': [3], 'register request,examine casually,check ticket,decide,reinitiate request,check ticket,examine casually,decide,reinitiate request,examine casually,check ticket,decide,reject request': [4], 'register request,check ticket,examine thoroughly,decide,reject request': [5]}\n"
     ]
    }
   ],
   "source": [
    "lookuptable = lookUpTable(log)\n",
    "print(\"Look-Up Table:\", \"\\n\", lookuptable)"
   ]
  },
  {
   "cell_type": "code",
   "execution_count": 8,
   "metadata": {},
   "outputs": [
    {
     "name": "stdout",
     "output_type": "stream",
     "text": [
      "Original variants (without event IDs) : \n",
      " [['register request', 'examine casually', 'check ticket', 'decide', 'reinitiate request', 'examine thoroughly', 'check ticket', 'decide', 'pay compensation'], ['register request', 'check ticket', 'examine casually', 'decide', 'pay compensation'], ['register request', 'examine thoroughly', 'check ticket', 'decide', 'reject request'], ['register request', 'examine casually', 'check ticket', 'decide', 'pay compensation'], ['register request', 'examine casually', 'check ticket', 'decide', 'reinitiate request', 'check ticket', 'examine casually', 'decide', 'reinitiate request', 'examine casually', 'check ticket', 'decide', 'reject request'], ['register request', 'check ticket', 'examine thoroughly', 'decide', 'reject request']]\n"
     ]
    }
   ],
   "source": [
    "orig_variants = getVariants(lookuptable)\n",
    "print(\"Original variants (without event IDs) : \\n\", orig_variants)"
   ]
  },
  {
   "cell_type": "code",
   "execution_count": 9,
   "metadata": {},
   "outputs": [
    {
     "name": "stdout",
     "output_type": "stream",
     "text": [
      "Variants with unique  event IDs: \n",
      " [[(0, 'register request'), (1, 'examine casually'), (2, 'check ticket'), (3, 'decide'), (4, 'reinitiate request'), (5, 'examine thoroughly'), (6, 'check ticket'), (7, 'decide'), (8, 'pay compensation')], [(9, 'register request'), (10, 'check ticket'), (11, 'examine casually'), (12, 'decide'), (13, 'pay compensation')], [(14, 'register request'), (15, 'examine thoroughly'), (16, 'check ticket'), (17, 'decide'), (18, 'reject request')], [(19, 'register request'), (20, 'examine casually'), (21, 'check ticket'), (22, 'decide'), (23, 'pay compensation')], [(24, 'register request'), (25, 'examine casually'), (26, 'check ticket'), (27, 'decide'), (28, 'reinitiate request'), (29, 'check ticket'), (30, 'examine casually'), (31, 'decide'), (32, 'reinitiate request'), (33, 'examine casually'), (34, 'check ticket'), (35, 'decide'), (36, 'reject request')], [(37, 'register request'), (38, 'check ticket'), (39, 'examine thoroughly'), (40, 'decide'), (41, 'reject request')]]\n"
     ]
    }
   ],
   "source": [
    "variants = createEventIDs(orig_variants)\n",
    "print(\"Variants with unique  event IDs: \\n\", variants)"
   ]
  },
  {
   "cell_type": "code",
   "execution_count": 10,
   "metadata": {},
   "outputs": [],
   "source": [
    "cp = customParameters(candidateLabels = [\"decide\", \"examine casually\"],\n",
    "                      horizontalThreshold = 0.5,\n",
    "                      verticalThreshold = 0.3, \n",
    "                      weightStructure = 0.3, \n",
    "                      weightMatch = 0.3, \n",
    "                      weightNoMatch = 0.3)\n",
    "\n",
    "count = len(variants) \n",
    "C = np.zeros((count,count)) "
   ]
  },
  {
   "cell_type": "code",
   "execution_count": 11,
   "metadata": {},
   "outputs": [
    {
     "name": "stdout",
     "output_type": "stream",
     "text": [
      "Variant1: \n",
      " [(19, 'register request'), (20, 'examine casually'), (21, 'check ticket'), (22, 'decide'), (23, 'pay compensation')]\n",
      "Variant2: \n",
      " [(24, 'register request'), (25, 'examine casually'), (26, 'check ticket'), (27, 'decide'), (28, 'reinitiate request'), (29, 'check ticket'), (30, 'examine casually'), (31, 'decide'), (32, 'reinitiate request'), (33, 'examine casually'), (34, 'check ticket'), (35, 'decide'), (36, 'reject request')]\n",
      "\n",
      " Some mappings: \n",
      " [(19, 24), (20, 25), (21, 26), (22, 27)] \n",
      " [(19, 24), (20, 25), (21, 26), (22, 31)] \n",
      "\n",
      "Number of mappings: \n",
      " 27 \n",
      "\n",
      "13.5\n",
      "15.899999999999999\n",
      "16.5\n",
      "15.45\n",
      "17.25\n",
      "17.85\n",
      "16.799999999999997\n",
      "18.0\n",
      "17.7\n",
      "16.049999999999997\n",
      "17.85\n",
      "18.15\n",
      "17.1\n",
      "18.299999999999997\n",
      "18.6\n",
      "18.15\n",
      "18.75\n",
      "18.15\n",
      "16.799999999999997\n",
      "18.0\n",
      "18.0\n",
      "17.85\n",
      "18.45\n",
      "18.45\n",
      "18.0\n",
      "18.0\n",
      "17.1\n"
     ]
    }
   ],
   "source": [
    "var1 = variants[3]\n",
    "var2 = variants[4]\n",
    "print(\"Variant1: \\n\", var1)\n",
    "print(\"Variant2: \\n\", var2)\n",
    "\n",
    "mappings = possibleMappings(var1,var2)\n",
    "print(\"\\n Some mappings: \\n\", mappings [0], \"\\n\", mappings[1], \"\\n\")\n",
    "print(\"Number of mappings: \\n\", len(mappings), \"\\n\")\n",
    "\n",
    "for mapping in possibleMappings(var1,var2):\n",
    "    cost = costMapping(cp,var1,var2,mapping)\n",
    "    print(cost)\n",
    "\n",
    "#optimal = optimalMapping(var1, var2, C, wm, ws, wn, bestmappings)\n",
    "#print(\"\\n Best mapping: \\n\", optimal[0], \"\\n\", \"with cost:\", optimal[1])"
   ]
  },
  {
   "cell_type": "code",
   "execution_count": 12,
   "metadata": {},
   "outputs": [
    {
     "name": "stdout",
     "output_type": "stream",
     "text": [
      "MaxCost used for normalization: 22.35\n",
      "Cost Matrix C: \n",
      " [[0.         0.57718121 0.68456376 0.4966443  0.52348993 0.68456376]\n",
      " [0.57718121 0.         0.38926174 0.09395973 0.65771812 0.37583893]\n",
      " [0.68456376 0.38926174 0.         0.37583893 0.97986577 0.09395973]\n",
      " [0.4966443  0.09395973 0.37583893 0.         0.60402685 0.38926174]\n",
      " [0.52348993 0.65771812 0.97986577 0.60402685 0.         1.        ]\n",
      " [0.68456376 0.37583893 0.09395973 0.38926174 1.         0.        ]]\n",
      "No of mappings: 15\n",
      "[([(0, 9), (1, 11), (2, 10), (3, 12), (8, 13)], 12.899999999999999), ([(0, 14), (5, 15), (6, 16), (7, 17)], 15.299999999999999), ([(0, 19), (1, 20), (2, 21), (3, 22), (8, 23)], 11.1), ([(0, 24), (1, 25), (2, 26), (3, 27), (4, 28)], 11.7), ([(0, 37), (2, 38), (3, 40), (5, 39)], 15.299999999999999), ([(9, 14), (10, 16), (12, 17)], 8.7), ([(9, 19), (10, 21), (11, 20), (12, 22), (13, 23)], 2.0999999999999996), ([(9, 24), (10, 26), (11, 25), (12, 27)], 14.7), ([(9, 37), (10, 38), (12, 40)], 8.399999999999999), ([(14, 19), (16, 21), (17, 22)], 8.399999999999999), ([(14, 24), (16, 34), (17, 35), (18, 36)], 21.9), ([(14, 37), (15, 39), (16, 38), (17, 40), (18, 41)], 2.0999999999999996), ([(19, 24), (20, 25), (21, 26), (22, 27)], 13.5), ([(19, 37), (21, 38), (22, 40)], 8.7), ([(24, 37), (34, 38), (35, 40), (36, 41)], 22.35)]\n"
     ]
    }
   ],
   "source": [
    "bestMappings = [] #list containing all best mappings\n",
    "\n",
    "all_pairs = list(combinations(variants, 2))\n",
    "for pair in all_pairs:\n",
    "    optimal = optimalMapping(variants, pair[0],pair[1],C,cp)\n",
    "    best_mapping = optimal[0]\n",
    "    best_cost = optimal[1]\n",
    "    bestMappings.append((best_mapping,best_cost))\n",
    "    \n",
    "maxCost = np.amax(C)\n",
    "print(\"MaxCost used for normalization:\", maxCost)\n",
    "C = C/maxCost\n",
    "print(\"Cost Matrix C: \\n\", C)\n",
    "print(\"No of mappings:\", len(bestMappings))\n",
    "\n",
    "print(bestMappings)"
   ]
  },
  {
   "cell_type": "markdown",
   "metadata": {},
   "source": [
    "# Graph functions"
   ]
  },
  {
   "cell_type": "code",
   "execution_count": 13,
   "metadata": {},
   "outputs": [
    {
     "name": "stdout",
     "output_type": "stream",
     "text": [
      "Positions of candidates: \n",
      " [1, 3, 7, 11, 12, 17, 20, 22, 25, 30, 33, 27, 31, 35, 40]\n"
     ]
    }
   ],
   "source": [
    "candidates = cp.getCandidateLabels()\n",
    "\n",
    "pos_candidates = positions_of_candidates(candidates, variants)\n",
    "print(\"Positions of candidates: \\n\", pos_candidates)"
   ]
  },
  {
   "cell_type": "code",
   "execution_count": 14,
   "metadata": {},
   "outputs": [],
   "source": [
    "G = graphTool()\n",
    "G.createGraphFromVariants(variants)\n",
    "G.addOptimalMappings(bestMappings,maxCost,pos_candidates)"
   ]
  },
  {
   "cell_type": "code",
   "execution_count": 15,
   "metadata": {},
   "outputs": [
    {
     "name": "stdout",
     "output_type": "stream",
     "text": [
      "[0, 1, 2, 3, 4, 5, 6, 7, 8, 9, 10, 11, 12, 13, 14, 15, 16, 17, 18, 19, 20, 21, 22, 23, 24, 25, 26, 27, 28, 29, 30, 31, 32, 33, 34, 35, 36, 37, 38, 39, 40, 41]\n",
      "[(0, 1, {'weight': -1}), (0, 9, {'weight': 0.5771812080536912}), (0, 14, {'weight': 0.6845637583892616}), (0, 19, {'weight': 0.49664429530201337}), (0, 24, {'weight': 0.523489932885906}), (0, 37, {'weight': 0.6845637583892616}), (1, 2, {'weight': -1}), (1, 11, {'weight': 0.5771812080536912}), (1, 20, {'weight': 0.49664429530201337}), (1, 25, {'weight': 0.523489932885906}), (2, 3, {'weight': -1}), (2, 10, {'weight': 0.5771812080536912}), (2, 21, {'weight': 0.49664429530201337}), (2, 26, {'weight': 0.523489932885906}), (2, 38, {'weight': 0.6845637583892616}), (3, 4, {'weight': -1}), (3, 12, {'weight': 0.5771812080536912}), (3, 22, {'weight': 0.49664429530201337}), (3, 27, {'weight': 0.523489932885906}), (3, 40, {'weight': 0.6845637583892616}), (4, 5, {'weight': -1}), (4, 28, {'weight': 0.523489932885906}), (5, 6, {'weight': -1}), (5, 15, {'weight': 0.6845637583892616}), (5, 39, {'weight': 0.6845637583892616}), (6, 7, {'weight': -1}), (6, 16, {'weight': 0.6845637583892616}), (7, 8, {'weight': -1}), (8, 13, {'weight': 0.5771812080536912}), (8, 23, {'weight': 0.49664429530201337}), (9, 10, {'weight': -1}), (9, 14, {'weight': 0.3892617449664429}), (9, 19, {'weight': 0.09395973154362414}), (9, 24, {'weight': 0.6577181208053691}), (9, 37, {'weight': 0.37583892617449655}), (10, 11, {'weight': -1}), (10, 16, {'weight': 0.3892617449664429}), (10, 21, {'weight': 0.09395973154362414}), (10, 26, {'weight': 0.6577181208053691}), (10, 38, {'weight': 0.37583892617449655}), (11, 12, {'weight': -1}), (11, 20, {'weight': 0.09395973154362414}), (12, 13, {'weight': -1}), (12, 22, {'weight': 0.09395973154362414}), (13, 23, {'weight': 0.09395973154362414}), (14, 15, {'weight': -1}), (14, 19, {'weight': 0.37583892617449655}), (14, 24, {'weight': 0.9798657718120805}), (14, 37, {'weight': 0.09395973154362414}), (15, 16, {'weight': -1}), (15, 39, {'weight': 0.09395973154362414}), (16, 17, {'weight': -1}), (16, 21, {'weight': 0.37583892617449655}), (16, 34, {'weight': 0.9798657718120805}), (16, 38, {'weight': 0.09395973154362414}), (17, 18, {'weight': -1}), (17, 35, {'weight': 0.9798657718120805}), (17, 40, {'weight': 0.09395973154362414}), (18, 36, {'weight': 0.9798657718120805}), (18, 41, {'weight': 0.09395973154362414}), (19, 20, {'weight': -1}), (19, 24, {'weight': 0.6040268456375839}), (19, 37, {'weight': 0.3892617449664429}), (20, 21, {'weight': -1}), (20, 25, {'weight': 0.6040268456375839}), (21, 22, {'weight': -1}), (21, 26, {'weight': 0.6040268456375839}), (21, 38, {'weight': 0.3892617449664429}), (22, 23, {'weight': -1}), (24, 25, {'weight': -1}), (24, 37, {'weight': 1.0}), (25, 26, {'weight': -1}), (26, 27, {'weight': -1}), (27, 28, {'weight': -1}), (28, 29, {'weight': -1}), (29, 30, {'weight': -1}), (30, 31, {'weight': -1}), (31, 32, {'weight': -1}), (32, 33, {'weight': -1}), (33, 34, {'weight': -1}), (34, 35, {'weight': -1}), (34, 38, {'weight': 1.0}), (35, 36, {'weight': -1}), (35, 40, {'weight': 1.0}), (36, 41, {'weight': 1.0}), (37, 38, {'weight': -1}), (38, 39, {'weight': -1}), (39, 40, {'weight': -1}), (40, 41, {'weight': -1})]\n"
     ]
    }
   ],
   "source": [
    "print(G.getGraph().nodes)#(data = True))\n",
    "#print(G.getGraph().edges)\n",
    "print(G.getGraph().edges(data=True))"
   ]
  },
  {
   "cell_type": "markdown",
   "metadata": {},
   "source": [
    "# Horizontal Refinement"
   ]
  },
  {
   "cell_type": "code",
   "execution_count": 16,
   "metadata": {},
   "outputs": [],
   "source": [
    "def horizontalRefinement(cp, graphList):\n",
    "    \"\"\"\n",
    "    Performs horizontal relabelling of event labels within a cluster; each event that belongs to the candidate labels will get a unique new label per cluster\n",
    "\n",
    "    :param candidateLabels: s list of lsbels that should be refined\n",
    "    :param graphList: a list of subgraphs where each subgraph represents a cluster of variants\n",
    "    :return: s list of refined subgraphs, where the attribute 'newLabel' is changed for each candidate label, such that the event labels are unique per cluster\n",
    "    \"\"\"\n",
    "    candidateLabels = cp.getCandidateLabels()\n",
    "    \n",
    "    counter=1\n",
    "    for subgraph in graphList:\n",
    "        for label in candidateLabels:\n",
    "            for node, dict in list(subgraph.nodes(data=True)):\n",
    "                if dict['curLabel'] == label:\n",
    "                    dict['newLabel'] += str(counter)\n",
    "        counter += 1\n",
    "\n",
    "    return graphList"
   ]
  },
  {
   "cell_type": "code",
   "execution_count": 17,
   "metadata": {},
   "outputs": [
    {
     "name": "stdout",
     "output_type": "stream",
     "text": [
      "First subgraph: \n",
      " [(0, {'curLabel': 'register request', 'newLabel': 'register request'}), (1, {'curLabel': 'examine casually', 'newLabel': 'examine casually'}), (2, {'curLabel': 'check ticket', 'newLabel': 'check ticket'}), (3, {'curLabel': 'decide', 'newLabel': 'decide'}), (4, {'curLabel': 'reinitiate request', 'newLabel': 'reinitiate request'}), (5, {'curLabel': 'examine thoroughly', 'newLabel': 'examine thoroughly'}), (6, {'curLabel': 'check ticket', 'newLabel': 'check ticket'}), (7, {'curLabel': 'decide', 'newLabel': 'decide'}), (8, {'curLabel': 'pay compensation', 'newLabel': 'pay compensation'}), (9, {'curLabel': 'register request', 'newLabel': 'register request'}), (10, {'curLabel': 'check ticket', 'newLabel': 'check ticket'}), (11, {'curLabel': 'examine casually', 'newLabel': 'examine casually'}), (12, {'curLabel': 'decide', 'newLabel': 'decide'}), (13, {'curLabel': 'pay compensation', 'newLabel': 'pay compensation'}), (14, {'curLabel': 'register request', 'newLabel': 'register request'}), (15, {'curLabel': 'examine thoroughly', 'newLabel': 'examine thoroughly'}), (16, {'curLabel': 'check ticket', 'newLabel': 'check ticket'}), (17, {'curLabel': 'decide', 'newLabel': 'decide'}), (18, {'curLabel': 'reject request', 'newLabel': 'reject request'}), (19, {'curLabel': 'register request', 'newLabel': 'register request'}), (20, {'curLabel': 'examine casually', 'newLabel': 'examine casually'}), (21, {'curLabel': 'check ticket', 'newLabel': 'check ticket'}), (22, {'curLabel': 'decide', 'newLabel': 'decide'}), (23, {'curLabel': 'pay compensation', 'newLabel': 'pay compensation'}), (37, {'curLabel': 'register request', 'newLabel': 'register request'}), (38, {'curLabel': 'check ticket', 'newLabel': 'check ticket'}), (39, {'curLabel': 'examine thoroughly', 'newLabel': 'examine thoroughly'}), (40, {'curLabel': 'decide', 'newLabel': 'decide'}), (41, {'curLabel': 'reject request', 'newLabel': 'reject request'})]\n",
      "\n",
      " Second subgraph: \n",
      " [(32, {'curLabel': 'reinitiate request', 'newLabel': 'reinitiate request'}), (33, {'curLabel': 'examine casually', 'newLabel': 'examine casually'}), (34, {'curLabel': 'check ticket', 'newLabel': 'check ticket'}), (35, {'curLabel': 'decide', 'newLabel': 'decide'}), (36, {'curLabel': 'reject request', 'newLabel': 'reject request'}), (24, {'curLabel': 'register request', 'newLabel': 'register request'}), (25, {'curLabel': 'examine casually', 'newLabel': 'examine casually'}), (26, {'curLabel': 'check ticket', 'newLabel': 'check ticket'}), (27, {'curLabel': 'decide', 'newLabel': 'decide'}), (28, {'curLabel': 'reinitiate request', 'newLabel': 'reinitiate request'}), (29, {'curLabel': 'check ticket', 'newLabel': 'check ticket'}), (30, {'curLabel': 'examine casually', 'newLabel': 'examine casually'}), (31, {'curLabel': 'decide', 'newLabel': 'decide'})] \n",
      "\n",
      "\n",
      " refined first subgraph: \n",
      " [(0, {'curLabel': 'register request', 'newLabel': 'register request'}), (1, {'curLabel': 'examine casually', 'newLabel': 'examine casually1'}), (2, {'curLabel': 'check ticket', 'newLabel': 'check ticket'}), (3, {'curLabel': 'decide', 'newLabel': 'decide1'}), (4, {'curLabel': 'reinitiate request', 'newLabel': 'reinitiate request'}), (5, {'curLabel': 'examine thoroughly', 'newLabel': 'examine thoroughly'}), (6, {'curLabel': 'check ticket', 'newLabel': 'check ticket'}), (7, {'curLabel': 'decide', 'newLabel': 'decide1'}), (8, {'curLabel': 'pay compensation', 'newLabel': 'pay compensation'}), (9, {'curLabel': 'register request', 'newLabel': 'register request'}), (10, {'curLabel': 'check ticket', 'newLabel': 'check ticket'}), (11, {'curLabel': 'examine casually', 'newLabel': 'examine casually1'}), (12, {'curLabel': 'decide', 'newLabel': 'decide1'}), (13, {'curLabel': 'pay compensation', 'newLabel': 'pay compensation'}), (14, {'curLabel': 'register request', 'newLabel': 'register request'}), (15, {'curLabel': 'examine thoroughly', 'newLabel': 'examine thoroughly'}), (16, {'curLabel': 'check ticket', 'newLabel': 'check ticket'}), (17, {'curLabel': 'decide', 'newLabel': 'decide1'}), (18, {'curLabel': 'reject request', 'newLabel': 'reject request'}), (19, {'curLabel': 'register request', 'newLabel': 'register request'}), (20, {'curLabel': 'examine casually', 'newLabel': 'examine casually1'}), (21, {'curLabel': 'check ticket', 'newLabel': 'check ticket'}), (22, {'curLabel': 'decide', 'newLabel': 'decide1'}), (23, {'curLabel': 'pay compensation', 'newLabel': 'pay compensation'}), (37, {'curLabel': 'register request', 'newLabel': 'register request'}), (38, {'curLabel': 'check ticket', 'newLabel': 'check ticket'}), (39, {'curLabel': 'examine thoroughly', 'newLabel': 'examine thoroughly'}), (40, {'curLabel': 'decide', 'newLabel': 'decide1'}), (41, {'curLabel': 'reject request', 'newLabel': 'reject request'})]\n",
      "\n",
      " refined second subgraph: \n",
      " [(32, {'curLabel': 'reinitiate request', 'newLabel': 'reinitiate request'}), (33, {'curLabel': 'examine casually', 'newLabel': 'examine casually2'}), (34, {'curLabel': 'check ticket', 'newLabel': 'check ticket'}), (35, {'curLabel': 'decide', 'newLabel': 'decide2'}), (36, {'curLabel': 'reject request', 'newLabel': 'reject request'}), (24, {'curLabel': 'register request', 'newLabel': 'register request'}), (25, {'curLabel': 'examine casually', 'newLabel': 'examine casually2'}), (26, {'curLabel': 'check ticket', 'newLabel': 'check ticket'}), (27, {'curLabel': 'decide', 'newLabel': 'decide2'}), (28, {'curLabel': 'reinitiate request', 'newLabel': 'reinitiate request'}), (29, {'curLabel': 'check ticket', 'newLabel': 'check ticket'}), (30, {'curLabel': 'examine casually', 'newLabel': 'examine casually2'}), (31, {'curLabel': 'decide', 'newLabel': 'decide2'})]\n",
      "\n",
      " number of subgraphs: 2\n"
     ]
    }
   ],
   "source": [
    "subgraphs = G.clusterDetection(cp)\n",
    "print(\"First subgraph: \\n\", subgraphs[0].nodes(data=True))\n",
    "print(\"\\n Second subgraph: \\n\", subgraphs[1].nodes(data=True), \"\\n\")\n",
    "\n",
    "graphs=horizontalRefinement(cp, subgraphs)\n",
    "print(\"\\n refined first subgraph: \\n\", graphs[0].nodes(data=True))\n",
    "print(\"\\n refined second subgraph: \\n\",graphs[1].nodes(data=True))\n",
    "\n",
    "print( \"\\n number of subgraphs:\",len( subgraphs))"
   ]
  },
  {
   "cell_type": "code",
   "execution_count": null,
   "metadata": {},
   "outputs": [],
   "source": []
  },
  {
   "cell_type": "markdown",
   "metadata": {},
   "source": [
    "# Vertical Refinement"
   ]
  },
  {
   "cell_type": "code",
   "execution_count": 18,
   "metadata": {},
   "outputs": [],
   "source": [
    "db = DBTool(log)"
   ]
  },
  {
   "cell_type": "code",
   "execution_count": 19,
   "metadata": {
    "scrolled": true
   },
   "outputs": [
    {
     "name": "stdout",
     "output_type": "stream",
     "text": [
      "[(0, {'curLabel': 'register request', 'newLabel': 'register request'}), (1, {'curLabel': 'examine casually', 'newLabel': 'examine casually1.1'}), (2, {'curLabel': 'check ticket', 'newLabel': 'check ticket'}), (3, {'curLabel': 'decide', 'newLabel': 'decide1.1'}), (4, {'curLabel': 'reinitiate request', 'newLabel': 'reinitiate request'}), (5, {'curLabel': 'examine thoroughly', 'newLabel': 'examine thoroughly'}), (6, {'curLabel': 'check ticket', 'newLabel': 'check ticket'}), (7, {'curLabel': 'decide', 'newLabel': 'decide1.3'}), (8, {'curLabel': 'pay compensation', 'newLabel': 'pay compensation'}), (9, {'curLabel': 'register request', 'newLabel': 'register request'}), (10, {'curLabel': 'check ticket', 'newLabel': 'check ticket'}), (11, {'curLabel': 'examine casually', 'newLabel': 'examine casually1.1'}), (12, {'curLabel': 'decide', 'newLabel': 'decide1.1'}), (13, {'curLabel': 'pay compensation', 'newLabel': 'pay compensation'}), (14, {'curLabel': 'register request', 'newLabel': 'register request'}), (15, {'curLabel': 'examine thoroughly', 'newLabel': 'examine thoroughly'}), (16, {'curLabel': 'check ticket', 'newLabel': 'check ticket'}), (17, {'curLabel': 'decide', 'newLabel': 'decide1.2'}), (18, {'curLabel': 'reject request', 'newLabel': 'reject request'}), (19, {'curLabel': 'register request', 'newLabel': 'register request'}), (20, {'curLabel': 'examine casually', 'newLabel': 'examine casually1.1'}), (21, {'curLabel': 'check ticket', 'newLabel': 'check ticket'}), (22, {'curLabel': 'decide', 'newLabel': 'decide1.1'}), (23, {'curLabel': 'pay compensation', 'newLabel': 'pay compensation'}), (37, {'curLabel': 'register request', 'newLabel': 'register request'}), (38, {'curLabel': 'check ticket', 'newLabel': 'check ticket'}), (39, {'curLabel': 'examine thoroughly', 'newLabel': 'examine thoroughly'}), (40, {'curLabel': 'decide', 'newLabel': 'decide1.2'}), (41, {'curLabel': 'reject request', 'newLabel': 'reject request'})] \n",
      "\n",
      "[(32, {'curLabel': 'reinitiate request', 'newLabel': 'reinitiate request'}), (33, {'curLabel': 'examine casually', 'newLabel': 'examine casually2.3'}), (34, {'curLabel': 'check ticket', 'newLabel': 'check ticket'}), (35, {'curLabel': 'decide', 'newLabel': 'decide2.3'}), (36, {'curLabel': 'reject request', 'newLabel': 'reject request'}), (24, {'curLabel': 'register request', 'newLabel': 'register request'}), (25, {'curLabel': 'examine casually', 'newLabel': 'examine casually2.1'}), (26, {'curLabel': 'check ticket', 'newLabel': 'check ticket'}), (27, {'curLabel': 'decide', 'newLabel': 'decide2.1'}), (28, {'curLabel': 'reinitiate request', 'newLabel': 'reinitiate request'}), (29, {'curLabel': 'check ticket', 'newLabel': 'check ticket'}), (30, {'curLabel': 'examine casually', 'newLabel': 'examine casually2.2'}), (31, {'curLabel': 'decide', 'newLabel': 'decide2.2'})] \n",
      "\n"
     ]
    }
   ],
   "source": [
    "#Get Connected components given a subgraph G\n",
    "#Return a dictionary with the form {label: [{comp1},{comp2}...]}\n",
    "def connectedComponents(G, candidateLabels):\n",
    "    \n",
    "    #Remove edges with 'weight' == -1\n",
    "    G.remove_edges_from([(u,v) for (u,v,d) in G.edges(data=True) if d['weight'] == -1])\n",
    "    \n",
    "    #1st find nodes with candidate labels, 2nd find connected components of each node, 3rd remove duplicate connected components \n",
    "    #since two connected nodes may have equal connected components   \n",
    "    return {label : [list(cc) for cc in set([tuple(nx.node_connected_component(G, cnode[0]))\n",
    "                                 for cnode in filter(lambda node: node[1]['curLabel'] == label, G.nodes(data=True))])]\n",
    "                                     for label in candidateLabels}\n",
    "\n",
    "\n",
    "#Get the size of the largest component given a connectedComponents dictionary\n",
    "#Return a dictionary with the form {label: maxSize[{comp1},{comp2},...]}\n",
    "def sizelargestComponent(connectedComponents):  \n",
    "    return {label: len(max(cc, key=len, default=[])) \n",
    "                for label, cc in connectedComponents.items()}\n",
    "\n",
    "#Get the average position of the events for a given connectedComponent, i.e., #Gi\n",
    "#Return a list with the avg position [[avgPosComp1],[avgPosComp2],...]\n",
    "def averagePosition(Gi, db):    \n",
    "    return [sum(map(lambda eID: getPosition(eID,db), nodes))/len(nodes) \n",
    "                for nodes in Gi]\n",
    "\n",
    "#Get the position of an event given its eventID\n",
    "def getPosition(eID, db):   \n",
    "    event = db.getEventByID(eID)\n",
    "    return event.Position\n",
    "    \n",
    "#Sort the Connected components in ascending order\n",
    "#Return a dictionary with sorted components having the form {label: [{comp1},{comp2}...]}\n",
    "def sortConectedComponents(connectedComponents, db):   \n",
    "    #sortCC = {event: sorted(zip(cc,averagePosition(cc,db)), key = lambda d: d[1]) \n",
    "     #           for event, cc in connectedComponents.items()}\n",
    "        \n",
    "    sortCC = {event: list(map(lambda d: d[0], sorted(zip(cc,averagePosition(cc,db)), key = lambda d: d[1])))\n",
    "                 for event, cc in connectedComponents.items()}\n",
    "    \n",
    "    return  sortCC\n",
    "\n",
    "\n",
    "#For each subgraph relabel candidateLabels according to the paper\n",
    "def verticalRefinement(graphList, cp, db):\n",
    "    \n",
    "    candidateLabels = cp.getCandidateLabels()\n",
    "    threshold = cp.getVerticalThreshold()\n",
    "    \n",
    "    for subgraph in graphList:\n",
    "        cc = connectedComponents(subgraph, candidateLabels)\n",
    "        cc = sortConectedComponents(cc, db)\n",
    "        mSize = sizelargestComponent(cc)\n",
    "        \n",
    "        for event, nG in cc.items():\n",
    "            for i,G in enumerate(nG, start = 1):\n",
    "                for cn in G:\n",
    "                    if i == 1 or len(G) >= threshold * mSize[event]:\n",
    "                        subgraph.node[cn]['newLabel'] += '.' + str(i)\n",
    "                        prevLabel = subgraph.node[cn]['newLabel']\n",
    "                    else:\n",
    "                        subgraph.node[cn]['newLabel'] = prevLabel\n",
    "            prevLabel = '' \n",
    "                        \n",
    "    return graphList\n",
    "        \n",
    "\n",
    "for g in verticalRefinement(subgraphs, cp, db):\n",
    "    print(g.nodes(data=True), \"\\n\")"
   ]
  },
  {
   "cell_type": "markdown",
   "metadata": {},
   "source": [
    "# PostProcessing"
   ]
  },
  {
   "cell_type": "code",
   "execution_count": 20,
   "metadata": {},
   "outputs": [],
   "source": [
    "def postProcessingLog(subgraphList, db, eventLog, cp):\n",
    "    labels = cp.getCandidateLabels()\n",
    "    \n",
    "    for subgraph in subgraphList:\n",
    "        for eID, data in filter(lambda node: node[1]['curLabel'] in labels, subgraph.nodes(data=True)):            \n",
    "            vID = db.getEventByID(eID).VariantID\n",
    "            pos = db.getEventByID(eID).Position\n",
    "            traces = db.getTracesByVariantID(vID)\n",
    "            for t in traces:\n",
    "                eventLog[t][pos]['concept:name'] = data['newLabel']"
   ]
  },
  {
   "cell_type": "code",
   "execution_count": 21,
   "metadata": {},
   "outputs": [],
   "source": [
    "postProcessingLog(subgraphs, db, log, cp)"
   ]
  },
  {
   "cell_type": "code",
   "execution_count": 22,
   "metadata": {},
   "outputs": [
    {
     "name": "stdout",
     "output_type": "stream",
     "text": [
      "\n",
      " case index: 0  case id: 3\n",
      "event index: 0  event activity: register request\n",
      "event index: 1  event activity: examine casually\n",
      "event index: 2  event activity: check ticket\n",
      "event index: 3  event activity: decide\n",
      "event index: 4  event activity: reinitiate request\n",
      "event index: 5  event activity: examine thoroughly\n",
      "event index: 6  event activity: check ticket\n",
      "event index: 7  event activity: decide\n",
      "event index: 8  event activity: pay compensation\n",
      "\n",
      " case index: 1  case id: 2\n",
      "event index: 0  event activity: register request\n",
      "event index: 1  event activity: check ticket\n",
      "event index: 2  event activity: examine casually\n",
      "event index: 3  event activity: decide\n",
      "event index: 4  event activity: pay compensation\n",
      "\n",
      " case index: 2  case id: 1\n",
      "event index: 0  event activity: register request\n",
      "event index: 1  event activity: examine thoroughly\n",
      "event index: 2  event activity: check ticket\n",
      "event index: 3  event activity: decide\n",
      "event index: 4  event activity: reject request\n",
      "\n",
      " case index: 3  case id: 6\n",
      "event index: 0  event activity: register request\n",
      "event index: 1  event activity: examine casually\n",
      "event index: 2  event activity: check ticket\n",
      "event index: 3  event activity: decide\n",
      "event index: 4  event activity: pay compensation\n",
      "\n",
      " case index: 4  case id: 5\n",
      "event index: 0  event activity: register request\n",
      "event index: 1  event activity: examine casually\n",
      "event index: 2  event activity: check ticket\n",
      "event index: 3  event activity: decide\n",
      "event index: 4  event activity: reinitiate request\n",
      "event index: 5  event activity: check ticket\n",
      "event index: 6  event activity: examine casually\n",
      "event index: 7  event activity: decide\n",
      "event index: 8  event activity: reinitiate request\n",
      "event index: 9  event activity: examine casually\n",
      "event index: 10  event activity: check ticket\n",
      "event index: 11  event activity: decide\n",
      "event index: 12  event activity: reject request\n",
      "\n",
      " case index: 5  case id: 4\n",
      "event index: 0  event activity: register request\n",
      "event index: 1  event activity: check ticket\n",
      "event index: 2  event activity: examine thoroughly\n",
      "event index: 3  event activity: decide\n",
      "event index: 4  event activity: reject request\n"
     ]
    }
   ],
   "source": [
    "for case_index, case in enumerate(orgLog):\n",
    "    print(\"\\n case index: %d  case id: %s\" % (case_index, case.attributes[\"concept:name\"]))\n",
    "    for event_index, event in enumerate(case):\n",
    "        print(\"event index: %d  event activity: %s\" % (event_index, event[\"concept:name\"]))"
   ]
  },
  {
   "cell_type": "code",
   "execution_count": null,
   "metadata": {},
   "outputs": [],
   "source": [
    "for case_index, case in enumerate(log):\n",
    "    print(\"\\n case index: %d  case id: %s\" % (case_index, case.attributes[\"concept:name\"]))\n",
    "    for event_index, event in enumerate(case):\n",
    "        print(\"event index: %d  event activity: %s\" % (event_index, event[\"concept:name\"]))"
   ]
  },
  {
   "cell_type": "code",
   "execution_count": null,
   "metadata": {},
   "outputs": [],
   "source": []
  },
  {
   "cell_type": "code",
   "execution_count": null,
   "metadata": {},
   "outputs": [],
   "source": []
  },
  {
   "cell_type": "code",
   "execution_count": null,
   "metadata": {},
   "outputs": [],
   "source": []
  }
 ],
 "metadata": {
  "kernelspec": {
   "display_name": "Python 3",
   "language": "python",
   "name": "python3"
  },
  "language_info": {
   "codemirror_mode": {
    "name": "ipython",
    "version": 3
   },
   "file_extension": ".py",
   "mimetype": "text/x-python",
   "name": "python",
   "nbconvert_exporter": "python",
   "pygments_lexer": "ipython3",
   "version": "3.7.3"
  }
 },
 "nbformat": 4,
 "nbformat_minor": 2
}
