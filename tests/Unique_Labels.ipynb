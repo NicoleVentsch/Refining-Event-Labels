{
 "cells": [
  {
   "cell_type": "markdown",
   "metadata": {},
   "source": [
    "# Finding list of unique labels in a log"
   ]
  },
  {
   "cell_type": "code",
   "execution_count": 12,
   "metadata": {},
   "outputs": [],
   "source": [
    "from refiningEventLabels.lib.graph.graphTool import graphTool \n",
    "from refiningEventLabels.lib.objects.customParameters import customParameters\n",
    "from refiningEventLabels.lib.Refinement import horizontalRefinement, verticalRefinement\n",
    "from refiningEventLabels.lib.eventLogProcessing.DBTool import DBTool \n",
    "from refiningEventLabels.lib.eventLogProcessing.postProcessing import eventLogRenaming\n",
    "from refiningEventLabels.lib.costFunction.mappings import createEventIDs, positionsOfCandidates\n",
    "from refiningEventLabels.lib.costFunction.cost import bestMappings\n",
    "from pm4py.objects.log.importer.xes import factory as xes_import_factory\n",
    "import numpy as np\n",
    "\n",
    "log = xes_import_factory.apply(\"event_log.xes\")"
   ]
  },
  {
   "cell_type": "code",
   "execution_count": 13,
   "metadata": {},
   "outputs": [],
   "source": [
    "def uniqueLabels(log):\n",
    "    uniqueLabels = []\n",
    "    db = DBTool(log)\n",
    "    all_variants = db.getVariants()\n",
    "    for variant in all_variants:\n",
    "        unique_variant = set(variant)\n",
    "        uniqueLabels.extend(list(unique_variant))\n",
    "    return list(set(uniqueLabels))"
   ]
  },
  {
   "cell_type": "code",
   "execution_count": 14,
   "metadata": {},
   "outputs": [
    {
     "data": {
      "text/plain": [
       "['Under Processing', 'Solves', 'Assigned Severity', 'Waiting', 'Closed']"
      ]
     },
     "execution_count": 14,
     "metadata": {},
     "output_type": "execute_result"
    }
   ],
   "source": [
    "uniqueLabels(log)"
   ]
  },
  {
   "cell_type": "code",
   "execution_count": null,
   "metadata": {},
   "outputs": [],
   "source": []
  }
 ],
 "metadata": {
  "kernelspec": {
   "display_name": "Python 3",
   "language": "python",
   "name": "python3"
  },
  "language_info": {
   "codemirror_mode": {
    "name": "ipython",
    "version": 3
   },
   "file_extension": ".py",
   "mimetype": "text/x-python",
   "name": "python",
   "nbconvert_exporter": "python",
   "pygments_lexer": "ipython3",
   "version": "3.7.0"
  }
 },
 "nbformat": 4,
 "nbformat_minor": 2
}
