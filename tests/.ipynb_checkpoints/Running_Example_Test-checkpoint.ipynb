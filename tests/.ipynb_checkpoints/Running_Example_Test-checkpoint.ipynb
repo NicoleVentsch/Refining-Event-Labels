{
 "cells": [
  {
   "cell_type": "code",
   "execution_count": 1,
   "metadata": {},
   "outputs": [],
   "source": [
    "import pm4py\n",
    "import os\n",
    "import numpy as np\n",
    "import networkx as nx\n",
    "from pm4py.objects.log.importer.xes import factory as xes_import_factory\n",
    "import itertools as it\n",
    "from itertools import combinations\n",
    "from operator import itemgetter"
   ]
  },
  {
   "cell_type": "markdown",
   "metadata": {},
   "source": [
    "# Here we use the event log \"running-example\" which is also used for the documentation in pm4py. "
   ]
  },
  {
   "cell_type": "code",
   "execution_count": 2,
   "metadata": {},
   "outputs": [],
   "source": [
    "log = xes_import_factory.apply(\"C:/Users/Nicole/Documents/Uni/Praktikum Process Mining/running-example.xes\")"
   ]
  },
  {
   "cell_type": "markdown",
   "metadata": {},
   "source": [
    "# Preprocessing functions"
   ]
  },
  {
   "cell_type": "code",
   "execution_count": 3,
   "metadata": {},
   "outputs": [],
   "source": [
    "# get the variants with the corresponding IDs (-> lookup-map)\n",
    "# input: log (imported with xes_importer)\n",
    "# stored as a dicctionary with variants as key and as value the list of case IDs that share the variant\n",
    "from pm4py.algo.filtering.log.variants import variants_filter\n",
    "\n",
    "def lookUpTable(log):\n",
    "    variant=variants_filter.get_variants_from_log_trace_idx(log, parameters=None)\n",
    "    return variant\n",
    "\n",
    "# get the variants from the dicctionary created with lookUpTable() and omit the IDs\n",
    "# input: dicctionary with variants as keys and case IDs as values\n",
    "# stored as a list containing the variants as lists (-> list of lists)\n",
    "def getVariants(dicctionary):\n",
    "    variants=list(dicctionary.keys())\n",
    "    return [variant.split(',') for variant in variants]"
   ]
  },
  {
   "cell_type": "markdown",
   "metadata": {},
   "source": [
    "# Calculating mappings"
   ]
  },
  {
   "cell_type": "code",
   "execution_count": 4,
   "metadata": {},
   "outputs": [],
   "source": [
    "def createEventIDs(variants=[]):\n",
    "    seq = it.count()\n",
    "    return [[(next(seq),event) for event in variant] for variant in variants]\n",
    "\n",
    "def common_labels(variant1, variant2):\n",
    "    var1 = [y[1] for (x, y) in enumerate(variant1)]\n",
    "    var2 = [y[1] for (x, y) in enumerate(variant2)]\n",
    "    return list(set(var1).intersection(var2))\n",
    "\n",
    "#Args: variant1, variant2 as a list of tuples from createEventIDs(variants)\n",
    "#Returns: number of unique events in variant1 and variant2\n",
    "def getNumberOfCommonLabels(variant1=[], variant2=[]):\n",
    "    s1 = set([b for (a,b) in variant1])\n",
    "    s2 = set([b for (a,b) in variant2])\n",
    "    \n",
    "    return len(s1.intersection(s2))\n",
    "\n",
    "def get_positions_label(string, variant):\n",
    "    positions = []\n",
    "    i = 0\n",
    "    for x,y in enumerate(variant):\n",
    "        if y[1] == string:\n",
    "            positions.insert(i, y[0])\n",
    "            i +=1\n",
    "    return positions\n",
    "\n",
    "#Args: variant1, variant2 as a list of tuples from createEventIDs(variants)\n",
    "#Returns: list of lists with all possible mappings for variant1 and variant2\n",
    "def possibleMappings(variant1=[], variant2=[]):\n",
    "    matches = [(a,c) for (a,b) in variant1 for (c,d) in variant2 if b == d]\n",
    "    n = getNumberOfCommonLabels(variant1, variant2)\n",
    "    \n",
    "    return [list(combi) for combi in it.combinations(matches, n)\n",
    "                        if len(set(it.chain.from_iterable(combi))) == (2*n)]\n",
    "\n",
    "def positions_of_candidates(candidates, variants):\n",
    "    positions_of_candidates = []\n",
    "    for variant in variants:\n",
    "        labels = set(map(itemgetter(1), variant))\n",
    "        for label in labels:\n",
    "            if label in candidates:\n",
    "                positions = get_positions_label(label, variant)\n",
    "                positions_of_candidates.extend(positions)\n",
    "    return positions_of_candidates"
   ]
  },
  {
   "cell_type": "markdown",
   "metadata": {},
   "source": [
    "# Calculating costs"
   ]
  },
  {
   "cell_type": "code",
   "execution_count": 5,
   "metadata": {},
   "outputs": [],
   "source": [
    "from itertools import combinations\n",
    "def costStructure(variant1, variant2, mapping):\n",
    "    cost_structure = 0\n",
    "    combis = list(combinations(mapping, 2)) \n",
    "    for (pair1, pair2) in combis:\n",
    "            distance1 = abs(pair1[0] - pair2[0])\n",
    "            distance2 = abs(pair1[1] - pair2[1])\n",
    "            cost_structure += abs(distance1 - distance2)/2\n",
    "    return cost_structure\n",
    "\n",
    "def context(variant):\n",
    "    predecessors_list = []\n",
    "    successors_list = []\n",
    "    predecessors = []\n",
    "    successors = []\n",
    "    empty = []\n",
    "    rest = list(map(itemgetter(1), variant[1:]))\n",
    "    predecessors_list.insert(0,empty)\n",
    "    successors_list.insert(0,rest)\n",
    "    for index in range(1,len(variant)):\n",
    "        pred_before = predecessors_list[index-1]\n",
    "        succ_before = successors_list[index-1]\n",
    "        last_label = [variant[index-1][1]]\n",
    "        current_label = variant[index][1]\n",
    "        #predecessors of current label are the predecessors of the last label plus last label\n",
    "        predecessors_list.insert(index, pred_before + last_label)\n",
    "        s_temp = succ_before.copy()\n",
    "        s_temp.remove(current_label)\n",
    "        #successors of current label are the successors of the last label minus current label\n",
    "        successors_list.insert(index, s_temp) \n",
    "    for elem in predecessors_list:\n",
    "        predecessors.append(set(elem))\n",
    "    for elem2 in successors_list:\n",
    "        successors.append(set(elem2))\n",
    "        \n",
    "    return predecessors, successors\n",
    "\n",
    "def costNoMatch(variant1, variant2, mapping):\n",
    "    mapped = set(common_labels(variant1, variant2)) #set of labels that were mapped\n",
    "    unmapped1 = set(map(itemgetter(1), variant1)).difference(mapped) #set of unmapped labels in variant1\n",
    "    unmapped2 = set(map(itemgetter(1), variant2)).difference(mapped) #set of unmapped labels in variant2\n",
    "    firstId1 = variant1[0][0]\n",
    "    firstId2 = variant2[0][0]\n",
    "    pred1, succ1 = context(variant1)\n",
    "    pred2, succ2 = context(variant2)\n",
    "    np1 = 0\n",
    "    ns1 = 0\n",
    "    np2 = 0\n",
    "    ns2 = 0\n",
    "    for unmapped_label1 in unmapped1:\n",
    "        positions1 = [x-firstId1 for x in get_positions_label(unmapped_label1, variant1)]\n",
    "        for p1 in positions1:\n",
    "            np1 += len(pred1[p1])\n",
    "            ns1 += len(succ1[p1])\n",
    "    for unmapped_label2 in unmapped2:\n",
    "        positions2 = [x-firstId2 for x in get_positions_label(unmapped_label2, variant2)]\n",
    "        for p2 in positions2:\n",
    "            np1 += len(pred2[p2])\n",
    "            ns1 += len(succ2[p2])\n",
    "    sum = np1+np2+ns1+ns2\n",
    "    return sum\n",
    "\n",
    "def costMatched(variant1, variant2, mapping):\n",
    "    firstId1 = variant1[0][0]\n",
    "    firstId2 = variant2[0][0]\n",
    "    pred1, succ1 = context(variant1)\n",
    "    pred2, succ2 = context(variant2)\n",
    "    sum = 0\n",
    "    for pair in mapping:\n",
    "        p1 = pair[0]-firstId1\n",
    "        p2 = pair[1]-firstId2\n",
    "        sum += len(pred1[p1])+len(pred2[p2])-len(pred1[p1].intersection(pred2[p2])) #number of distinct predecessors\n",
    "        sum += len(succ1[p1])+len(succ2[p2])-len(succ1[p1].intersection(succ2[p2])) #number of distinct successors\n",
    "    return sum\n",
    "\n",
    "def costMapping(wm,ws,wn,variant1,variant2,mapping):\n",
    "    cost_struc = costStructure(variant1, variant2, mapping)\n",
    "    cost_nomatch = costNoMatch(variant1, variant2, mapping)\n",
    "    cost_match = costMatched(variant1, variant2, mapping)\n",
    "    return wm*cost_match + ws*cost_struc + wn*cost_nomatch\n",
    "\n"
   ]
  },
  {
   "cell_type": "code",
   "execution_count": 6,
   "metadata": {},
   "outputs": [],
   "source": [
    "\n",
    "\n",
    "def optimalMapping(variant1, variant2, matrixx, wm, ws, wn, bestMappings):\n",
    "    pos_variant1 = variants.index(variant1)\n",
    "    pos_variant2 = variants.index(variant2)\n",
    "    possible_mappings = possibleMappings(variant1, variant2)\n",
    "    if possible_mappings != []:\n",
    "        best_mapping = possible_mappings[0]\n",
    "        cost_best = costMapping(wm,ws,wn,variant1,variant2,best_mapping)\n",
    "        for mapping in possible_mappings:\n",
    "            cost_new = costMapping(wm,ws,wn,variant1,variant2,mapping)\n",
    "            if cost_new < cost_best:\n",
    "                best_mapping = mapping\n",
    "                cost_best = cost_new\n",
    "    matrixx[pos_variant1, pos_variant2] = cost_best #entry ij in matrix updated with best cost\n",
    "    matrixx[pos_variant2, pos_variant1] = cost_best #entry ji in matrix updated with best cost\n",
    "    bestMappings.append((best_mapping,cost_best))\n",
    "    return best_mapping, cost_best"
   ]
  },
  {
   "cell_type": "markdown",
   "metadata": {},
   "source": [
    "# Testing functionalities with \"running-example\""
   ]
  },
  {
   "cell_type": "code",
   "execution_count": 7,
   "metadata": {},
   "outputs": [
    {
     "name": "stdout",
     "output_type": "stream",
     "text": [
      "Look-Up Table: \n",
      " {'register request,examine casually,check ticket,decide,reinitiate request,examine thoroughly,check ticket,decide,pay compensation': [0], 'register request,check ticket,examine casually,decide,pay compensation': [1], 'register request,examine thoroughly,check ticket,decide,reject request': [2], 'register request,examine casually,check ticket,decide,pay compensation': [3], 'register request,examine casually,check ticket,decide,reinitiate request,check ticket,examine casually,decide,reinitiate request,examine casually,check ticket,decide,reject request': [4], 'register request,check ticket,examine thoroughly,decide,reject request': [5]}\n"
     ]
    }
   ],
   "source": [
    "lookuptable = lookUpTable(log)\n",
    "print(\"Look-Up Table:\", \"\\n\", lookuptable)"
   ]
  },
  {
   "cell_type": "code",
   "execution_count": 8,
   "metadata": {},
   "outputs": [
    {
     "name": "stdout",
     "output_type": "stream",
     "text": [
      "Original variants (without event IDs) : \n",
      " [['register request', 'examine casually', 'check ticket', 'decide', 'reinitiate request', 'examine thoroughly', 'check ticket', 'decide', 'pay compensation'], ['register request', 'check ticket', 'examine casually', 'decide', 'pay compensation'], ['register request', 'examine thoroughly', 'check ticket', 'decide', 'reject request'], ['register request', 'examine casually', 'check ticket', 'decide', 'pay compensation'], ['register request', 'examine casually', 'check ticket', 'decide', 'reinitiate request', 'check ticket', 'examine casually', 'decide', 'reinitiate request', 'examine casually', 'check ticket', 'decide', 'reject request'], ['register request', 'check ticket', 'examine thoroughly', 'decide', 'reject request']]\n"
     ]
    }
   ],
   "source": [
    "orig_variants = getVariants(lookuptable)\n",
    "print(\"Original variants (without event IDs) : \\n\", orig_variants)"
   ]
  },
  {
   "cell_type": "code",
   "execution_count": 9,
   "metadata": {},
   "outputs": [
    {
     "name": "stdout",
     "output_type": "stream",
     "text": [
      "Variants with unique  event IDs: \n",
      " [[(0, 'register request'), (1, 'examine casually'), (2, 'check ticket'), (3, 'decide'), (4, 'reinitiate request'), (5, 'examine thoroughly'), (6, 'check ticket'), (7, 'decide'), (8, 'pay compensation')], [(9, 'register request'), (10, 'check ticket'), (11, 'examine casually'), (12, 'decide'), (13, 'pay compensation')], [(14, 'register request'), (15, 'examine thoroughly'), (16, 'check ticket'), (17, 'decide'), (18, 'reject request')], [(19, 'register request'), (20, 'examine casually'), (21, 'check ticket'), (22, 'decide'), (23, 'pay compensation')], [(24, 'register request'), (25, 'examine casually'), (26, 'check ticket'), (27, 'decide'), (28, 'reinitiate request'), (29, 'check ticket'), (30, 'examine casually'), (31, 'decide'), (32, 'reinitiate request'), (33, 'examine casually'), (34, 'check ticket'), (35, 'decide'), (36, 'reject request')], [(37, 'register request'), (38, 'check ticket'), (39, 'examine thoroughly'), (40, 'decide'), (41, 'reject request')]]\n"
     ]
    }
   ],
   "source": [
    "variants = createEventIDs(orig_variants)\n",
    "print(\"Variants with unique  event IDs: \\n\", variants)"
   ]
  },
  {
   "cell_type": "code",
   "execution_count": 10,
   "metadata": {},
   "outputs": [],
   "source": [
    "wm = 0.3\n",
    "ws = 0.3\n",
    "wn = 0.3\n",
    "\n",
    "candidates = [\"decide\", \"examine casually\"] \n",
    "\n",
    "count = len(variants) \n",
    "C = np.zeros((count,count)) "
   ]
  },
  {
   "cell_type": "code",
   "execution_count": 11,
   "metadata": {},
   "outputs": [
    {
     "name": "stdout",
     "output_type": "stream",
     "text": [
      "Variant1: \n",
      " [(19, 'register request'), (20, 'examine casually'), (21, 'check ticket'), (22, 'decide'), (23, 'pay compensation')]\n",
      "Variant2: \n",
      " [(24, 'register request'), (25, 'examine casually'), (26, 'check ticket'), (27, 'decide'), (28, 'reinitiate request'), (29, 'check ticket'), (30, 'examine casually'), (31, 'decide'), (32, 'reinitiate request'), (33, 'examine casually'), (34, 'check ticket'), (35, 'decide'), (36, 'reject request')]\n",
      "\n",
      " Some mappings: \n",
      " [(19, 24), (20, 25), (21, 26), (22, 27)] \n",
      " [(19, 24), (20, 25), (21, 26), (22, 31)] \n",
      "\n",
      "Number of mappings: \n",
      " 27 \n",
      "\n",
      "17.1\n",
      "19.5\n",
      "20.1\n",
      "19.05\n",
      "20.85\n",
      "21.449999999999996\n",
      "20.4\n",
      "21.6\n",
      "21.299999999999997\n",
      "19.65\n",
      "21.449999999999996\n",
      "21.75\n",
      "20.7\n",
      "21.9\n",
      "22.2\n",
      "21.75\n",
      "22.349999999999998\n",
      "21.75\n",
      "20.4\n",
      "21.6\n",
      "21.6\n",
      "21.45\n",
      "22.049999999999997\n",
      "22.049999999999997\n",
      "21.6\n",
      "21.6\n",
      "20.7\n"
     ]
    }
   ],
   "source": [
    "var1 = variants[3]\n",
    "var2 = variants[4]\n",
    "print(\"Variant1: \\n\", var1)\n",
    "print(\"Variant2: \\n\", var2)\n",
    "\n",
    "mappings = possibleMappings(var1,var2)\n",
    "print(\"\\n Some mappings: \\n\", mappings [0], \"\\n\", mappings[1], \"\\n\")\n",
    "print(\"Number of mappings: \\n\", len(mappings), \"\\n\")\n",
    "\n",
    "for mapping in possibleMappings(var1,var2):\n",
    "    cost = costMapping(wm,ws,wn,var1,var2,mapping)\n",
    "    print(cost)\n",
    "\n",
    "#optimal = optimalMapping(var1, var2, C, wm, ws, wn, bestmappings)\n",
    "#print(\"\\n Best mapping: \\n\", optimal[0], \"\\n\", \"with cost:\", optimal[1])"
   ]
  },
  {
   "cell_type": "code",
   "execution_count": 12,
   "metadata": {},
   "outputs": [
    {
     "name": "stdout",
     "output_type": "stream",
     "text": [
      "MaxCost used for normalization: 25.949999999999996\n",
      "Cost Matrix C: \n",
      " [[0.         0.70520231 0.71676301 0.65895954 0.73988439 0.71676301]\n",
      " [0.70520231 0.         0.40462428 0.28901734 0.69364162 0.39306358]\n",
      " [0.71676301 0.40462428 0.         0.39306358 0.98265896 0.28901734]\n",
      " [0.65895954 0.28901734 0.39306358 0.         0.65895954 0.40462428]\n",
      " [0.73988439 0.69364162 0.98265896 0.65895954 0.         1.        ]\n",
      " [0.71676301 0.39306358 0.28901734 0.40462428 1.         0.        ]]\n",
      "No of mappings: 15\n",
      "[([(0, 9), (1, 11), (2, 10), (3, 12), (8, 13)], 18.3), ([(0, 14), (2, 16), (3, 17), (5, 15)], 18.6), ([(0, 19), (1, 20), (2, 21), (3, 22), (8, 23)], 17.1), ([(0, 24), (1, 25), (2, 26), (3, 27), (4, 28)], 19.2), ([(0, 37), (2, 38), (3, 40), (5, 39)], 18.599999999999998), ([(9, 14), (10, 16), (12, 17)], 10.5), ([(9, 19), (10, 21), (11, 20), (12, 22), (13, 23)], 7.5), ([(9, 24), (10, 26), (11, 25), (12, 27)], 18.0), ([(9, 37), (10, 38), (12, 40)], 10.2), ([(14, 19), (16, 21), (17, 22)], 10.2), ([(14, 24), (16, 34), (17, 35), (18, 36)], 25.5), ([(14, 37), (15, 39), (16, 38), (17, 40), (18, 41)], 7.5), ([(19, 24), (20, 25), (21, 26), (22, 27)], 17.1), ([(19, 37), (21, 38), (22, 40)], 10.5), ([(24, 37), (34, 38), (35, 40), (36, 41)], 25.949999999999996)]\n"
     ]
    }
   ],
   "source": [
    "bestmappings = [] #list containing all best mappings\n",
    "\n",
    "all_pairs = list(combinations(variants, 2))\n",
    "for pair in all_pairs:\n",
    "    optimal = optimalMapping(pair[0],pair[1],C,wm,ws,wn, bestmappings)\n",
    "    best_mapping = optimal[0]\n",
    "    best_cost = optimal[1]\n",
    "    \n",
    "maxCost = np.amax(C)\n",
    "print(\"MaxCost used for normalization:\", maxCost)\n",
    "C = C/maxCost\n",
    "print(\"Cost Matrix C: \\n\", C)\n",
    "#print(17.1/maxElement) Entry is right\n",
    "\n",
    "print(\"No of mappings:\", len(bestmappings))\n",
    "\n",
    "print(bestmappings)"
   ]
  },
  {
   "cell_type": "markdown",
   "metadata": {},
   "source": [
    "# Graph functions"
   ]
  },
  {
   "cell_type": "code",
   "execution_count": 13,
   "metadata": {},
   "outputs": [],
   "source": [
    "def createGraph(variants):\n",
    "    \"\"\"\n",
    "    gives a graph where the vertices correspond to all unique pairs (eventID, event label) appearing in the variants\n",
    "\n",
    "    :param variants: list of variants given as a list of tuples (eventID, event label), i.e., a list of lists of tuples\n",
    "    :return: graph with vertices of the form (eventID, event label)\n",
    "    \"\"\"\n",
    "    G = nx.Graph()\n",
    "    for variant in variants:\n",
    "        for pair in variant:\n",
    "            G.add_node(pair)\n",
    "    return G\n",
    "\n",
    "\n",
    "\n",
    "G = nx.Graph()\n",
    "\n",
    "\n",
    "#Args: edges as a list of tuples, where edges = [(ID,ID)...])\n",
    "#Returns: list of edges with weight\n",
    "def createEdgeList(edges = [], weight = -1):\n",
    "    \"\"\"\n",
    "    creates a list of tuples of edges with the corresponding weights given a list of edges and weights\n",
    "\n",
    "    :param edges: edges given as a list of tuples (eventID1,eventID2)\n",
    "    :param weight: a weight\n",
    "    :return: a list of tuples (eventID1, eventID2, weight) of edges together with their weight\n",
    "    \"\"\"\n",
    "    return [(a,b,{'weight': weight}) for (a,b) in edges]\n",
    "\n",
    "\n",
    "#Auxiliary function\n",
    "def pairwise(variant_nodes):\n",
    "    \"\"\" auxiliary function to create pairs\"\"\"\n",
    "    list_pairs = []\n",
    "    #a, b = it.tee(iterable)\n",
    "    l = len(variant_nodes)\n",
    "    for i in range(l-1):\n",
    "        list_pairs.append((variant_nodes[i],variant_nodes[i+1]))\n",
    "        \n",
    "    #next(b, None)\n",
    "    return list_pairs\n",
    "\n",
    "\n",
    "#Args: variant as a list of tuples, where variant = [(EventID,\"Label\")...]\n",
    "#Returns: list of variant  with attributes 'curLabel' and 'newLabel\n",
    "def createNodeListFromVariant(variant = []):\n",
    "    \"\"\"\n",
    "    assigns the current label ('curLabel') and an empty placeholder for the new label ('newLabel') as attributes to the events of a given variant\n",
    "\n",
    "    :param variant: variant given as a list of tuples (eventID, event label)\n",
    "    :return: list of variants with the attributes 'curLabel' (previously event label) and 'newLabel' (initialized as event label)\n",
    "    \"\"\"\n",
    "\n",
    "    return [(a,{'curLabel':b, 'newLabel':b}) for (a,b) in variant]\n",
    "\n",
    "\n",
    "#Args: variant as a list of tuples, where variant = [(EventID,\"Label\")...])\n",
    "#Returns: list of edges with weight for a given variant\n",
    "def createEdgeListFromVariant(variant = [], weight = -1):\n",
    "    \"\"\"\n",
    "    creates a list of edges together with their weight for a given variant and weight\n",
    "\n",
    "    :param variant: variant given as a list of tuples (eventID, event label)\n",
    "    :param weight: a weight\n",
    "    :return: a list of edges together with their weight\n",
    "    \"\"\"\n",
    "    nodes,_ = zip(*variant)\n",
    "    return createEdgeList(pairwise(nodes), weight)\n",
    "\n",
    "\n",
    "#Args: list of variants, where variants [[(EvenID,\"Label\"),(...)],[...]]\n",
    "#Returns: creates a graph with the initial variants\n",
    "def createGraphFromVariants(variants = []):\n",
    "    \"\"\"\n",
    "    updates an empty graph, such that it becomes a weighted graph containing vertices of the form (eventID, event label) and edges of the form (eventID1, eventID2, weight) based on a given list of variants\n",
    "\n",
    "    :param variants: list of variants, where a variant is given as a list of tuples (eventID, event label), i.e., a list of lists of tuples\n",
    "    \"\"\"\n",
    "    for variant in variants:\n",
    "        G.add_nodes_from(createNodeListFromVariant(variant))\n",
    "        G.add_edges_from(createEdgeListFromVariant(variant))\n",
    "\n",
    "\n",
    "#Args: optimal mapping as a list, normalized cost as floating point\n",
    "#Returns: updates the graph by adding edges from the optimal mapping\n",
    "def addOptimalMapping(bestMappingsList, maxCost, candidate_positions):\n",
    "    \"\"\"\n",
    "    updates the graph using a given optimal mapping between two variants and the normalized cost for this mapping\n",
    "\n",
    "    :param optimalMapping: a mapping as a set of matched pairs (ID1,ID2), where the event label corresponding to ID1 is the same as that corresponding to ID2; ID1 is from the first variant and ID2 from the second variant\n",
    "    :param normalizedCost: the cost of the mapping\n",
    "    \"\"\"\n",
    "    for mapp in bestMappingsList:\n",
    "        normalized_cost = mapp[1]/maxCost\n",
    "        mapped_pairs = mapp[0]\n",
    "        candidate_pairs = []\n",
    "        non_candidate_pairs = []\n",
    "        for (x,y) in mapped_pairs:\n",
    "            if x in candidate_positions:\n",
    "                candidate_pairs.append((x,y))\n",
    "            else:\n",
    "                non_candidate_pairs.append((x,y))\n",
    "        G.add_edges_from(createEdgeList(candidate_pairs, normalized_cost))\n",
    "        G.add_edges_from(createEdgeList(non_candidate_pairs, 0))"
   ]
  },
  {
   "cell_type": "code",
   "execution_count": 14,
   "metadata": {},
   "outputs": [
    {
     "name": "stdout",
     "output_type": "stream",
     "text": [
      "Positions of candidates: \n",
      " [3, 7, 1, 12, 11, 17, 22, 20, 27, 31, 35, 25, 30, 33, 40]\n"
     ]
    }
   ],
   "source": [
    "pos_candidates = positions_of_candidates(candidates, variants)\n",
    "print(\"Positions of candidates: \\n\", pos_candidates)"
   ]
  },
  {
   "cell_type": "code",
   "execution_count": 15,
   "metadata": {},
   "outputs": [],
   "source": [
    "#G = nx.Graph()\n",
    "createGraphFromVariants(variants)\n",
    "addOptimalMapping(bestmappings,maxCost,pos_candidates)\n",
    "#G = addOptimalMapping(bestmappings, maxCost, G_init)"
   ]
  },
  {
   "cell_type": "code",
   "execution_count": 16,
   "metadata": {},
   "outputs": [
    {
     "name": "stdout",
     "output_type": "stream",
     "text": [
      "[0, 1, 2, 3, 4, 5, 6, 7, 8, 9, 10, 11, 12, 13, 14, 15, 16, 17, 18, 19, 20, 21, 22, 23, 24, 25, 26, 27, 28, 29, 30, 31, 32, 33, 34, 35, 36, 37, 38, 39, 40, 41]\n",
      "[(0, 1), (0, 9), (0, 14), (0, 19), (0, 24), (0, 37), (1, 2), (1, 11), (1, 20), (1, 25), (2, 3), (2, 10), (2, 16), (2, 21), (2, 26), (2, 38), (3, 4), (3, 12), (3, 17), (3, 22), (3, 27), (3, 40), (4, 5), (4, 28), (5, 6), (5, 15), (5, 39), (6, 7), (7, 8), (8, 13), (8, 23), (9, 10), (9, 14), (9, 19), (9, 24), (9, 37), (10, 11), (10, 16), (10, 21), (10, 26), (10, 38), (11, 12), (11, 20), (11, 25), (12, 13), (12, 17), (12, 22), (12, 27), (12, 40), (13, 23), (14, 15), (14, 19), (14, 24), (14, 37), (15, 16), (15, 39), (16, 17), (16, 21), (16, 34), (16, 38), (17, 18), (17, 22), (17, 35), (17, 40), (18, 36), (18, 41), (19, 20), (19, 24), (19, 37), (20, 21), (20, 25), (21, 22), (21, 26), (21, 38), (22, 23), (22, 27), (22, 40), (24, 25), (24, 37), (25, 26), (26, 27), (27, 28), (28, 29), (29, 30), (30, 31), (31, 32), (32, 33), (33, 34), (34, 35), (34, 38), (35, 36), (35, 40), (36, 41), (37, 38), (38, 39), (39, 40), (40, 41)]\n",
      "[(0, 1, {'weight': -1}), (0, 9, {'weight': 0}), (0, 14, {'weight': 0}), (0, 19, {'weight': 0}), (0, 24, {'weight': 0}), (0, 37, {'weight': 0}), (1, 2, {'weight': -1}), (1, 11, {'weight': 0.7052023121387284}), (1, 20, {'weight': 0.6589595375722545}), (1, 25, {'weight': 0.7398843930635839}), (2, 3, {'weight': -1}), (2, 10, {'weight': 0}), (2, 16, {'weight': 0}), (2, 21, {'weight': 0}), (2, 26, {'weight': 0}), (2, 38, {'weight': 0}), (3, 4, {'weight': -1}), (3, 12, {'weight': 0.7052023121387284}), (3, 17, {'weight': 0.716763005780347}), (3, 22, {'weight': 0.6589595375722545}), (3, 27, {'weight': 0.7398843930635839}), (3, 40, {'weight': 0.7167630057803469}), (4, 5, {'weight': -1}), (4, 28, {'weight': 0}), (5, 6, {'weight': -1}), (5, 15, {'weight': 0}), (5, 39, {'weight': 0}), (6, 7, {'weight': -1}), (7, 8, {'weight': -1}), (8, 13, {'weight': 0}), (8, 23, {'weight': 0}), (9, 10, {'weight': -1}), (9, 14, {'weight': 0}), (9, 19, {'weight': 0}), (9, 24, {'weight': 0}), (9, 37, {'weight': 0}), (10, 11, {'weight': -1}), (10, 16, {'weight': 0}), (10, 21, {'weight': 0}), (10, 26, {'weight': 0}), (10, 38, {'weight': 0}), (11, 12, {'weight': -1}), (11, 20, {'weight': 0.28901734104046245}), (11, 25, {'weight': 0.6936416184971099}), (12, 13, {'weight': -1}), (12, 17, {'weight': 0.4046242774566475}), (12, 22, {'weight': 0.28901734104046245}), (12, 27, {'weight': 0.6936416184971099}), (12, 40, {'weight': 0.3930635838150289}), (13, 23, {'weight': 0}), (14, 15, {'weight': -1}), (14, 19, {'weight': 0}), (14, 24, {'weight': 0}), (14, 37, {'weight': 0}), (15, 16, {'weight': -1}), (15, 39, {'weight': 0}), (16, 17, {'weight': -1}), (16, 21, {'weight': 0}), (16, 34, {'weight': 0}), (16, 38, {'weight': 0}), (17, 18, {'weight': -1}), (17, 22, {'weight': 0.3930635838150289}), (17, 35, {'weight': 0.9826589595375724}), (17, 40, {'weight': 0.28901734104046245}), (18, 36, {'weight': 0}), (18, 41, {'weight': 0}), (19, 20, {'weight': -1}), (19, 24, {'weight': 0}), (19, 37, {'weight': 0}), (20, 21, {'weight': -1}), (20, 25, {'weight': 0.6589595375722545}), (21, 22, {'weight': -1}), (21, 26, {'weight': 0}), (21, 38, {'weight': 0}), (22, 23, {'weight': -1}), (22, 27, {'weight': 0.6589595375722545}), (22, 40, {'weight': 0.4046242774566475}), (24, 25, {'weight': -1}), (24, 37, {'weight': 0}), (25, 26, {'weight': -1}), (26, 27, {'weight': -1}), (27, 28, {'weight': -1}), (28, 29, {'weight': -1}), (29, 30, {'weight': -1}), (30, 31, {'weight': -1}), (31, 32, {'weight': -1}), (32, 33, {'weight': -1}), (33, 34, {'weight': -1}), (34, 35, {'weight': -1}), (34, 38, {'weight': 0}), (35, 36, {'weight': -1}), (35, 40, {'weight': 1.0}), (36, 41, {'weight': 0}), (37, 38, {'weight': -1}), (38, 39, {'weight': -1}), (39, 40, {'weight': -1}), (40, 41, {'weight': -1})]\n"
     ]
    }
   ],
   "source": [
    "print(G.nodes)#(data = True))\n",
    "print(G.edges)\n",
    "print(G.edges(data=True))"
   ]
  },
  {
   "cell_type": "markdown",
   "metadata": {},
   "source": [
    "# Horizontal Clustering"
   ]
  },
  {
   "cell_type": "code",
   "execution_count": 17,
   "metadata": {},
   "outputs": [],
   "source": [
    "def clusterDetection(G, threshold):\n",
    "    \"\"\"\n",
    "    clusters the variants based on a given threshold; to do so, edges with a weight above the threshold are deleted from the given graph respresenting the optimal mappings\n",
    "\n",
    "    :param threshold: the variant threshold the algorithm should use\n",
    "    :return: list of subgraphs where each subgraph represents a cluster of variants\n",
    "\n",
    "    \"\"\"\n",
    "\n",
    "    edges = list(G.edges(data=True))\n",
    "    \n",
    "    # remove the edges above the threshold (and below 0)\n",
    "    for node1, node2, weight in edges:\n",
    "        if weight['weight'] > threshold or weight['weight'] == 0:\n",
    "            G.remove_edge(node1, node2)\n",
    "\n",
    "    # get the subgraphs of the graph created this way\n",
    "    subgraphNodes= nx.k_edge_subgraphs(G, k=1)\n",
    "    subgraphs=[G.subgraph(nodes) for nodes in subgraphNodes]\n",
    "    return subgraphs\n",
    "\n",
    "\n",
    "\n",
    "def horizontalRefinement(candidateLabels, graphList):\n",
    "    \"\"\"\n",
    "    Performs horizontal relabelling of event labels within a cluster; each event that belongs to the candidate labels will get a unique new label per cluster\n",
    "\n",
    "    :param candidateLabels: s list of lsbels that should be refined\n",
    "    :param graphList: a list of subgraphs where each subgraph represents a cluster of variants\n",
    "    :return: s list of refined subgraphs, where the attribute 'newLabel' is changed for each candidate label, such that the event labels are unique per cluster\n",
    "    \"\"\"\n",
    "\n",
    "    counter=1\n",
    "    for subgraph in graphList:\n",
    "        for label in candidateLabels:\n",
    "            for node, dict in list(subgraph.nodes(data=True)):\n",
    "                if dict['curLabel'] == label:\n",
    "                    dict['newLabel'] += str(counter)\n",
    "        counter += 1\n",
    "\n",
    "    return graphList"
   ]
  },
  {
   "cell_type": "code",
   "execution_count": 18,
   "metadata": {},
   "outputs": [
    {
     "name": "stdout",
     "output_type": "stream",
     "text": [
      "First subgraph: \n",
      " [(0, {'curLabel': 'register request', 'newLabel': 'register request'}), (1, {'curLabel': 'examine casually', 'newLabel': 'examine casually'}), (2, {'curLabel': 'check ticket', 'newLabel': 'check ticket'}), (3, {'curLabel': 'decide', 'newLabel': 'decide'}), (4, {'curLabel': 'reinitiate request', 'newLabel': 'reinitiate request'}), (5, {'curLabel': 'examine thoroughly', 'newLabel': 'examine thoroughly'}), (6, {'curLabel': 'check ticket', 'newLabel': 'check ticket'}), (7, {'curLabel': 'decide', 'newLabel': 'decide'}), (8, {'curLabel': 'pay compensation', 'newLabel': 'pay compensation'})]\n",
      "\n",
      " Second subgraph: \n",
      " [(37, {'curLabel': 'register request', 'newLabel': 'register request'}), (38, {'curLabel': 'check ticket', 'newLabel': 'check ticket'}), (39, {'curLabel': 'examine thoroughly', 'newLabel': 'examine thoroughly'}), (40, {'curLabel': 'decide', 'newLabel': 'decide'}), (9, {'curLabel': 'register request', 'newLabel': 'register request'}), (10, {'curLabel': 'check ticket', 'newLabel': 'check ticket'}), (11, {'curLabel': 'examine casually', 'newLabel': 'examine casually'}), (12, {'curLabel': 'decide', 'newLabel': 'decide'}), (13, {'curLabel': 'pay compensation', 'newLabel': 'pay compensation'}), (14, {'curLabel': 'register request', 'newLabel': 'register request'}), (41, {'curLabel': 'reject request', 'newLabel': 'reject request'}), (15, {'curLabel': 'examine thoroughly', 'newLabel': 'examine thoroughly'}), (16, {'curLabel': 'check ticket', 'newLabel': 'check ticket'}), (17, {'curLabel': 'decide', 'newLabel': 'decide'}), (18, {'curLabel': 'reject request', 'newLabel': 'reject request'}), (19, {'curLabel': 'register request', 'newLabel': 'register request'}), (20, {'curLabel': 'examine casually', 'newLabel': 'examine casually'}), (21, {'curLabel': 'check ticket', 'newLabel': 'check ticket'}), (22, {'curLabel': 'decide', 'newLabel': 'decide'}), (23, {'curLabel': 'pay compensation', 'newLabel': 'pay compensation'})] \n",
      "\n",
      "\n",
      " refined first subgraph: \n",
      " [(0, {'curLabel': 'register request', 'newLabel': 'register request1'}), (1, {'curLabel': 'examine casually', 'newLabel': 'examine casually'}), (2, {'curLabel': 'check ticket', 'newLabel': 'check ticket1'}), (3, {'curLabel': 'decide', 'newLabel': 'decide'}), (4, {'curLabel': 'reinitiate request', 'newLabel': 'reinitiate request'}), (5, {'curLabel': 'examine thoroughly', 'newLabel': 'examine thoroughly'}), (6, {'curLabel': 'check ticket', 'newLabel': 'check ticket1'}), (7, {'curLabel': 'decide', 'newLabel': 'decide'}), (8, {'curLabel': 'pay compensation', 'newLabel': 'pay compensation'})]\n",
      "\n",
      " refined second subgraph: \n",
      " [(37, {'curLabel': 'register request', 'newLabel': 'register request2'}), (38, {'curLabel': 'check ticket', 'newLabel': 'check ticket2'}), (39, {'curLabel': 'examine thoroughly', 'newLabel': 'examine thoroughly'}), (40, {'curLabel': 'decide', 'newLabel': 'decide'}), (9, {'curLabel': 'register request', 'newLabel': 'register request2'}), (10, {'curLabel': 'check ticket', 'newLabel': 'check ticket2'}), (11, {'curLabel': 'examine casually', 'newLabel': 'examine casually'}), (12, {'curLabel': 'decide', 'newLabel': 'decide'}), (13, {'curLabel': 'pay compensation', 'newLabel': 'pay compensation'}), (14, {'curLabel': 'register request', 'newLabel': 'register request2'}), (41, {'curLabel': 'reject request', 'newLabel': 'reject request'}), (15, {'curLabel': 'examine thoroughly', 'newLabel': 'examine thoroughly'}), (16, {'curLabel': 'check ticket', 'newLabel': 'check ticket2'}), (17, {'curLabel': 'decide', 'newLabel': 'decide'}), (18, {'curLabel': 'reject request', 'newLabel': 'reject request'}), (19, {'curLabel': 'register request', 'newLabel': 'register request2'}), (20, {'curLabel': 'examine casually', 'newLabel': 'examine casually'}), (21, {'curLabel': 'check ticket', 'newLabel': 'check ticket2'}), (22, {'curLabel': 'decide', 'newLabel': 'decide'}), (23, {'curLabel': 'pay compensation', 'newLabel': 'pay compensation'})]\n",
      "\n",
      " number of subgraphs: 3\n"
     ]
    }
   ],
   "source": [
    "h_threshold = 0.5\n",
    "subgraphs = clusterDetection(G, h_threshold)\n",
    "print(\"First subgraph: \\n\", subgraphs[0].nodes(data=True))\n",
    "print(\"\\n Second subgraph: \\n\", subgraphs[1].nodes(data=True), \"\\n\")\n",
    "\n",
    "graphs=horizontalRefinement(['register request','check ticket'], subgraphs)\n",
    "print(\"\\n refined first subgraph: \\n\", graphs[0].nodes(data=True))\n",
    "print(\"\\n refined second subgraph: \\n\",graphs[1].nodes(data=True))\n",
    "\n",
    "print( \"\\n number of subgraphs:\",len( subgraphs))"
   ]
  },
  {
   "cell_type": "code",
   "execution_count": null,
   "metadata": {},
   "outputs": [],
   "source": []
  },
  {
   "cell_type": "code",
   "execution_count": null,
   "metadata": {},
   "outputs": [],
   "source": []
  }
 ],
 "metadata": {
  "kernelspec": {
   "display_name": "Python 3",
   "language": "python",
   "name": "python3"
  },
  "language_info": {
   "codemirror_mode": {
    "name": "ipython",
    "version": 3
   },
   "file_extension": ".py",
   "mimetype": "text/x-python",
   "name": "python",
   "nbconvert_exporter": "python",
   "pygments_lexer": "ipython3",
   "version": "3.6.7"
  }
 },
 "nbformat": 4,
 "nbformat_minor": 2
}
