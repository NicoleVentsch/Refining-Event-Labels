{
 "cells": [
  {
   "cell_type": "code",
   "execution_count": null,
   "metadata": {},
   "outputs": [],
   "source": [
    "from refiningEventLabels.lib.graph.graphTool import graphTool \n",
    "from refiningEventLabels.lib.objects.customParameters import customParameters\n",
    "from refiningEventLabels.lib.refinement.labelRefinement import verticalRefinement, horizontalRefinement\n",
    "from refiningEventLabels.lib.eventLogProcessing.DBTool import DBTool \n",
    "from refiningEventLabels.lib.eventLogProcessing.postProcessing import eventLogRenaming\n",
    "from refiningEventLabels.lib.costFunction.mappings import createEventIDs, positionsOfCandidates\n",
    "from refiningEventLabels.lib.costFunction.cost import bestMappings\n",
    "from pm4py.objects.log.importer.xes import factory as xes_import_factory\n",
    "import numpy as np\n",
    "\n",
    "#REPLACE with data from local web server\n",
    "log = xes_import_factory.apply(\"refiningEventLabels/lib/running-example.xes\")\n",
    "orgLog = xes_import_factory.apply(\"refiningEventLabels/lib/running-example.xes\")\n",
    "cp = customParameters(candidateLabels = [\"decide\", \"examine casually\"],\n",
    "                      horizontalThreshold = 0.5,\n",
    "                      verticalThreshold = 0.3, \n",
    "                      weightStructure = 0.3, \n",
    "                      weightMatch = 0.3, \n",
    "                      weightNoMatch = 0.3)\n",
    "\n",
    "\n",
    "#PreProcessing Step\n",
    "db = DBTool(log)\n",
    "variants = createEventIDs(db.getVariants())\n",
    "count = len(variants) \n",
    "C = np.zeros((count,count)) \n",
    "  \n",
    "#Computing best mappings and MAX(cost)\n",
    "best_mappings = bestMappings(cp, variants, C)\n",
    "max_cost = np.amax(C)\n",
    "C = C/max_cost\n",
    "\n",
    "#Intermediate steps before creating the graph\n",
    "candidates = cp.getCandidateLabels()\n",
    "pos_candidates = positionsOfCandidates(candidates, variants)\n",
    "\n",
    "#Graph creation \n",
    "G = graphTool()\n",
    "G.createGraphFromVariants(variants)\n",
    "G.addOptimalMappings(best_mappings, max_cost, pos_candidates)\n",
    "\n",
    "#Refinement Steps\n",
    "subgraphs = G.clusterDetection(cp)\n",
    "horizontalRefinement(cp, subgraphs)\n",
    "verticalRefinement(cp, subgraphs, db)\n",
    "\n",
    "#PostProcessing Step\n",
    "eventLogRenaming(cp, subgraphs, db, log)\n"
   ]
  }
 ],
 "metadata": {
  "kernelspec": {
   "display_name": "Python 3",
   "language": "python",
   "name": "python3"
  },
  "language_info": {
   "codemirror_mode": {
    "name": "ipython",
    "version": 3
   },
   "file_extension": ".py",
   "mimetype": "text/x-python",
   "name": "python",
   "nbconvert_exporter": "python",
   "pygments_lexer": "ipython3",
   "version": "3.7.3"
  }
 },
 "nbformat": 4,
 "nbformat_minor": 2
}
